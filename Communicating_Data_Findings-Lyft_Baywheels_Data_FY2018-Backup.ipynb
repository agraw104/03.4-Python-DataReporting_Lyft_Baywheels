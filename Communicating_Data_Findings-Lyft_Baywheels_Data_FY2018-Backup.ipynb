{
 "cells": [
  {
   "cell_type": "markdown",
   "metadata": {},
   "source": [
    "# Bike Sharing Analysis with Lyft - Baywheels Data"
   ]
  },
  {
   "cell_type": "markdown",
   "metadata": {},
   "source": [
    "## Author : Pavan Sanjaykumar Agrawal"
   ]
  },
  {
   "cell_type": "markdown",
   "metadata": {},
   "source": [
    "![alt text](https://upload.wikimedia.org/wikipedia/en/9/95/Bay_Wheels_logo.png \"Baywheels Logo\")"
   ]
  },
  {
   "cell_type": "markdown",
   "metadata": {},
   "source": [
    "![alt text](http://static1.squarespace.com/static/5330a423e4b07cae635bb95e/53331a82e4b0528862e35ca9/5cfefc118b5f6400015a0f0a/1560800978391/vPrHTOga.png?format=1500w \"Baywheels\")"
   ]
  },
  {
   "cell_type": "markdown",
   "metadata": {},
   "source": [
    "## Table of Contents\n",
    "- [Introduction](#Introduction)\n",
    "- [Part I - Gathering Data](#PartI)\n",
    "- [Part II - Assessing Data](#PartII)\n",
    "- [Part III - Cleaning Data](#PartIII)\n",
    "- [Part IV - Univariate Exploration](#PartIV)\n",
    "- [Part V - Bivariate Exploration](#PartV)\n",
    "- [Part VI - Multivariate Exploration](#PartVI)\n",
    "- [Part VII - Conclusion](#PartVII)"
   ]
  },
  {
   "cell_type": "markdown",
   "metadata": {},
   "source": [
    "<a id='Introduction'></a>"
   ]
  },
  {
   "cell_type": "markdown",
   "metadata": {},
   "source": [
    "## Introduction"
   ]
  },
  {
   "cell_type": "markdown",
   "metadata": {},
   "source": [
    "Bay Wheels is a regional public bicycle sharing system in the San Francisco Bay Area, California operated by Motivate in a partnership with the Metropolitan Transportation Commission and the Bay Area Air Quality Management District. Bay Wheels is the first regional and large-scale bicycle sharing system deployed in California and on the West Coast of the United States. It was established as Bay Area Bike Share in August 2013. As of January 2018, the Bay Wheels system had over 2,600 bicycles in 262 stations across San Francisco, East Bay and San Jose. On June 28, 2017, the system officially re-launched as Ford GoBike in a partnership with Ford Motor Company. After Motivate's acquisition by Lyft, the system was subsequently renamed to Bay Wheels in June 2019. The system is expected to expand to 7,000 bicycles around 540 stations in San Francisco, Oakland, Berkeley, Emeryville, and San Jose.\n",
    "\n",
    "Over the past decade, bicycle-sharing systems have been growing in number and popularity in cities across the world. Bicycle-sharing systems allow users to rent bicycles for short trips, typically 30 minutes or less. Thanks to the rise in information technologies, it is easy for a user of the system to access a dock within the system to unlock or return bicycles. These technologies also provide a wealth of data that can be used to explore how these bike-sharing systems are used.\n",
    "\n",
    "In this project, I will perform an exploratory analysis on data provided by Lyft Baywheels, a bike-share system provider for the **FY 2018**."
   ]
  },
  {
   "cell_type": "markdown",
   "metadata": {},
   "source": [
    "<a id='PartI'></a>"
   ]
  },
  {
   "cell_type": "markdown",
   "metadata": {},
   "source": [
    "## Part I - Gathering Data"
   ]
  },
  {
   "cell_type": "markdown",
   "metadata": {},
   "source": [
    "Let's begin with gathering the data. Firstly, let us import all the libraries that we may require for this project."
   ]
  },
  {
   "cell_type": "code",
   "execution_count": 1,
   "metadata": {},
   "outputs": [],
   "source": [
    "# import all packages and set plots to be embedded inline\n",
    "import numpy as np\n",
    "import pandas as pd\n",
    "import matplotlib.pyplot as plt\n",
    "import seaborn as sb\n",
    "import datetime\n",
    "import requests, zipfile, io, os\n",
    "from bs4 import BeautifulSoup\n",
    "%matplotlib inline"
   ]
  },
  {
   "cell_type": "markdown",
   "metadata": {},
   "source": [
    "The data to be gathered was found on this [webpage](https://s3.amazonaws.com/baywheels-data/index.html). We may see that this page contains many links for downloading the zip files for several years and months. We would then have to extarct the csv files out of them and then convert them to a dataframe. After that, we would have to concatenate all the files to build up a master dataframe. But this entire process would take a lot of time, which could be saved if we complete the process of gathering the data programatically rather than manually.\n",
    "\n",
    "For now, let's just download the page and save as a 'Complete Webpage', which would be used for analysis later. Apart from this manual download we would complete the entire data gathering process programmatically. We could have downloaded the html file programmatically as well by using Beautiful Soup, but the contents that we are interested in does not appear in the basic html file which would be extracted by Beautiful Soup."
   ]
  },
  {
   "cell_type": "code",
   "execution_count": 2,
   "metadata": {},
   "outputs": [],
   "source": [
    "with open ('Index of bucket _baywheels-data_.html') as file:\n",
    "    soup = BeautifulSoup(file, 'lxml')"
   ]
  },
  {
   "cell_type": "code",
   "execution_count": 3,
   "metadata": {},
   "outputs": [
    {
     "data": {
      "text/plain": [
       "[<a href=\"https://s3.amazonaws.com/baywheels-data/2017-fordgobike-tripdata.csv.zip\">2017-fordgobike-tripdata.csv.zip</a>,\n",
       " <a href=\"https://s3.amazonaws.com/baywheels-data/201801-fordgobike-tripdata.csv.zip\">201801-fordgobike-tripdata.csv.zip</a>,\n",
       " <a href=\"https://s3.amazonaws.com/baywheels-data/201802-fordgobike-tripdata.csv.zip\">201802-fordgobike-tripdata.csv.zip</a>,\n",
       " <a href=\"https://s3.amazonaws.com/baywheels-data/201803-fordgobike-tripdata.csv.zip\">201803-fordgobike-tripdata.csv.zip</a>,\n",
       " <a href=\"https://s3.amazonaws.com/baywheels-data/201804-fordgobike-tripdata.csv.zip\">201804-fordgobike-tripdata.csv.zip</a>,\n",
       " <a href=\"https://s3.amazonaws.com/baywheels-data/201805-fordgobike-tripdata.csv.zip\">201805-fordgobike-tripdata.csv.zip</a>,\n",
       " <a href=\"https://s3.amazonaws.com/baywheels-data/201806-fordgobike-tripdata.csv.zip\">201806-fordgobike-tripdata.csv.zip</a>,\n",
       " <a href=\"https://s3.amazonaws.com/baywheels-data/201807-fordgobike-tripdata.csv.zip\">201807-fordgobike-tripdata.csv.zip</a>,\n",
       " <a href=\"https://s3.amazonaws.com/baywheels-data/201808-fordgobike-tripdata.csv.zip\">201808-fordgobike-tripdata.csv.zip</a>,\n",
       " <a href=\"https://s3.amazonaws.com/baywheels-data/201809-fordgobike-tripdata.csv.zip\">201809-fordgobike-tripdata.csv.zip</a>,\n",
       " <a href=\"https://s3.amazonaws.com/baywheels-data/201810-fordgobike-tripdata.csv.zip\">201810-fordgobike-tripdata.csv.zip</a>,\n",
       " <a href=\"https://s3.amazonaws.com/baywheels-data/201811-fordgobike-tripdata.csv.zip\">201811-fordgobike-tripdata.csv.zip</a>,\n",
       " <a href=\"https://s3.amazonaws.com/baywheels-data/201812-fordgobike-tripdata.csv.zip\">201812-fordgobike-tripdata.csv.zip</a>,\n",
       " <a href=\"https://s3.amazonaws.com/baywheels-data/201901-fordgobike-tripdata.csv.zip\">201901-fordgobike-tripdata.csv.zip</a>,\n",
       " <a href=\"https://s3.amazonaws.com/baywheels-data/201902-fordgobike-tripdata.csv.zip\">201902-fordgobike-tripdata.csv.zip</a>,\n",
       " <a href=\"https://s3.amazonaws.com/baywheels-data/201903-fordgobike-tripdata.csv.zip\">201903-fordgobike-tripdata.csv.zip</a>,\n",
       " <a href=\"https://s3.amazonaws.com/baywheels-data/201904-fordgobike-tripdata.csv.zip\">201904-fordgobike-tripdata.csv.zip</a>,\n",
       " <a href=\"https://s3.amazonaws.com/baywheels-data/201905-baywheels-tripdata.csv.zip\">201905-baywheels-tripdata.csv.zip</a>,\n",
       " <a href=\"https://s3.amazonaws.com/baywheels-data/201906-baywheels-tripdata.csv.zip\">201906-baywheels-tripdata.csv.zip</a>,\n",
       " <a href=\"https://s3.amazonaws.com/baywheels-data/201907-baywheels-tripdata.csv.zip\">201907-baywheels-tripdata.csv.zip</a>,\n",
       " <a href=\"https://s3.amazonaws.com/baywheels-data/201908-baywheels-tripdata.csv.zip\">201908-baywheels-tripdata.csv.zip</a>,\n",
       " <a href=\"https://s3.amazonaws.com/baywheels-data/201909-baywheels-tripdata.csv.zip\">201909-baywheels-tripdata.csv.zip</a>,\n",
       " <a href=\"https://s3.amazonaws.com/baywheels-data/201910-baywheels-tripdata.csv.zip\">201910-baywheels-tripdata.csv.zip</a>,\n",
       " <a href=\"https://s3.amazonaws.com/baywheels-data/201911-baywheels-tripdata.csv.zip\">201911-baywheels-tripdata.csv.zip</a>,\n",
       " <a href=\"https://s3.amazonaws.com/baywheels-data/index.html\">index.html</a>,\n",
       " <a class=\"free-vpn_rate-btn\" href=\"https://chrome.google.com/webstore/detail/free-vpn-the-fastest-vpn/nkomfibbgccdjcahcpleidblgknecfhh/reviews\" target=\"_blank\">Rate VPN</a>]"
      ]
     },
     "execution_count": 3,
     "metadata": {},
     "output_type": "execute_result"
    }
   ],
   "source": [
    "# let's filter out the html code lines that contain the urls\n",
    "urls_scraped = soup.find_all('a')\n",
    "urls_scraped"
   ]
  },
  {
   "cell_type": "code",
   "execution_count": 4,
   "metadata": {},
   "outputs": [],
   "source": [
    "# Now let's only extract the urls from the scraped url list.\n",
    "url_list_allyrs = []\n",
    "for url in urls_scraped:\n",
    "    url_list_allyrs.append(url.get('href'))"
   ]
  },
  {
   "cell_type": "code",
   "execution_count": 5,
   "metadata": {},
   "outputs": [
    {
     "data": {
      "text/plain": [
       "['https://s3.amazonaws.com/baywheels-data/2017-fordgobike-tripdata.csv.zip',\n",
       " 'https://s3.amazonaws.com/baywheels-data/201801-fordgobike-tripdata.csv.zip',\n",
       " 'https://s3.amazonaws.com/baywheels-data/201802-fordgobike-tripdata.csv.zip',\n",
       " 'https://s3.amazonaws.com/baywheels-data/201803-fordgobike-tripdata.csv.zip',\n",
       " 'https://s3.amazonaws.com/baywheels-data/201804-fordgobike-tripdata.csv.zip',\n",
       " 'https://s3.amazonaws.com/baywheels-data/201805-fordgobike-tripdata.csv.zip',\n",
       " 'https://s3.amazonaws.com/baywheels-data/201806-fordgobike-tripdata.csv.zip',\n",
       " 'https://s3.amazonaws.com/baywheels-data/201807-fordgobike-tripdata.csv.zip',\n",
       " 'https://s3.amazonaws.com/baywheels-data/201808-fordgobike-tripdata.csv.zip',\n",
       " 'https://s3.amazonaws.com/baywheels-data/201809-fordgobike-tripdata.csv.zip',\n",
       " 'https://s3.amazonaws.com/baywheels-data/201810-fordgobike-tripdata.csv.zip',\n",
       " 'https://s3.amazonaws.com/baywheels-data/201811-fordgobike-tripdata.csv.zip',\n",
       " 'https://s3.amazonaws.com/baywheels-data/201812-fordgobike-tripdata.csv.zip',\n",
       " 'https://s3.amazonaws.com/baywheels-data/201901-fordgobike-tripdata.csv.zip',\n",
       " 'https://s3.amazonaws.com/baywheels-data/201902-fordgobike-tripdata.csv.zip',\n",
       " 'https://s3.amazonaws.com/baywheels-data/201903-fordgobike-tripdata.csv.zip',\n",
       " 'https://s3.amazonaws.com/baywheels-data/201904-fordgobike-tripdata.csv.zip',\n",
       " 'https://s3.amazonaws.com/baywheels-data/201905-baywheels-tripdata.csv.zip',\n",
       " 'https://s3.amazonaws.com/baywheels-data/201906-baywheels-tripdata.csv.zip',\n",
       " 'https://s3.amazonaws.com/baywheels-data/201907-baywheels-tripdata.csv.zip',\n",
       " 'https://s3.amazonaws.com/baywheels-data/201908-baywheels-tripdata.csv.zip',\n",
       " 'https://s3.amazonaws.com/baywheels-data/201909-baywheels-tripdata.csv.zip',\n",
       " 'https://s3.amazonaws.com/baywheels-data/201910-baywheels-tripdata.csv.zip',\n",
       " 'https://s3.amazonaws.com/baywheels-data/201911-baywheels-tripdata.csv.zip',\n",
       " 'https://s3.amazonaws.com/baywheels-data/index.html',\n",
       " 'https://chrome.google.com/webstore/detail/free-vpn-the-fastest-vpn/nkomfibbgccdjcahcpleidblgknecfhh/reviews']"
      ]
     },
     "execution_count": 5,
     "metadata": {},
     "output_type": "execute_result"
    }
   ],
   "source": [
    "url_list_allyrs"
   ]
  },
  {
   "cell_type": "markdown",
   "metadata": {},
   "source": [
    "Now since we are interested in only the data for the Financial Year 2018. Let's filter out the urls which are not for FY 2018."
   ]
  },
  {
   "cell_type": "code",
   "execution_count": 6,
   "metadata": {},
   "outputs": [],
   "source": [
    "url_2018 = []\n",
    "for url in url_list_allyrs:\n",
    "    if '2018' in url:\n",
    "        url_2018.append(url)"
   ]
  },
  {
   "cell_type": "code",
   "execution_count": 7,
   "metadata": {},
   "outputs": [
    {
     "data": {
      "text/plain": [
       "['https://s3.amazonaws.com/baywheels-data/201801-fordgobike-tripdata.csv.zip',\n",
       " 'https://s3.amazonaws.com/baywheels-data/201802-fordgobike-tripdata.csv.zip',\n",
       " 'https://s3.amazonaws.com/baywheels-data/201803-fordgobike-tripdata.csv.zip',\n",
       " 'https://s3.amazonaws.com/baywheels-data/201804-fordgobike-tripdata.csv.zip',\n",
       " 'https://s3.amazonaws.com/baywheels-data/201805-fordgobike-tripdata.csv.zip',\n",
       " 'https://s3.amazonaws.com/baywheels-data/201806-fordgobike-tripdata.csv.zip',\n",
       " 'https://s3.amazonaws.com/baywheels-data/201807-fordgobike-tripdata.csv.zip',\n",
       " 'https://s3.amazonaws.com/baywheels-data/201808-fordgobike-tripdata.csv.zip',\n",
       " 'https://s3.amazonaws.com/baywheels-data/201809-fordgobike-tripdata.csv.zip',\n",
       " 'https://s3.amazonaws.com/baywheels-data/201810-fordgobike-tripdata.csv.zip',\n",
       " 'https://s3.amazonaws.com/baywheels-data/201811-fordgobike-tripdata.csv.zip',\n",
       " 'https://s3.amazonaws.com/baywheels-data/201812-fordgobike-tripdata.csv.zip']"
      ]
     },
     "execution_count": 7,
     "metadata": {},
     "output_type": "execute_result"
    }
   ],
   "source": [
    "url_2018"
   ]
  },
  {
   "cell_type": "code",
   "execution_count": 8,
   "metadata": {},
   "outputs": [],
   "source": [
    "# Creating the folder to store the zip files which would be extracted from the url_2018 list.\n",
    "folder_name = 'zip_files'\n",
    "if not os.path.exists(folder_name):\n",
    "    os.makedirs(folder_name)"
   ]
  },
  {
   "cell_type": "code",
   "execution_count": 9,
   "metadata": {},
   "outputs": [],
   "source": [
    "# Downloading the zip files\n",
    "for url in url_2018: \n",
    "    r = requests.get(url)\n",
    "    with open(os.path.join(folder_name, url.split('/')[-1]), mode='wb') as file:\n",
    "       file.write(r.content)"
   ]
  },
  {
   "cell_type": "code",
   "execution_count": 10,
   "metadata": {},
   "outputs": [
    {
     "data": {
      "text/plain": [
       "['201801-fordgobike-tripdata.csv.zip',\n",
       " '201802-fordgobike-tripdata.csv.zip',\n",
       " '201803-fordgobike-tripdata.csv.zip',\n",
       " '201804-fordgobike-tripdata.csv.zip',\n",
       " '201805-fordgobike-tripdata.csv.zip',\n",
       " '201806-fordgobike-tripdata.csv.zip',\n",
       " '201807-fordgobike-tripdata.csv.zip',\n",
       " '201808-fordgobike-tripdata.csv.zip',\n",
       " '201809-fordgobike-tripdata.csv.zip',\n",
       " '201810-fordgobike-tripdata.csv.zip',\n",
       " '201811-fordgobike-tripdata.csv.zip',\n",
       " '201812-fordgobike-tripdata.csv.zip']"
      ]
     },
     "execution_count": 10,
     "metadata": {},
     "output_type": "execute_result"
    }
   ],
   "source": [
    "# Let's check whether the download was successful or not\n",
    "zip_list = os.listdir(folder_name)\n",
    "zip_list"
   ]
  },
  {
   "cell_type": "code",
   "execution_count": 11,
   "metadata": {},
   "outputs": [
    {
     "data": {
      "text/plain": [
       "['Month_0',\n",
       " 'Month_1',\n",
       " 'Month_2',\n",
       " 'Month_3',\n",
       " 'Month_4',\n",
       " 'Month_5',\n",
       " 'Month_6',\n",
       " 'Month_7',\n",
       " 'Month_8',\n",
       " 'Month_9',\n",
       " 'Month_10',\n",
       " 'Month_11']"
      ]
     },
     "execution_count": 11,
     "metadata": {},
     "output_type": "execute_result"
    }
   ],
   "source": [
    "# Creating a list containing month names to which we would store our data frame for that particular month\n",
    "dfs=[]\n",
    "i = 0\n",
    "for zip in zip_list:\n",
    "    dfs.append('Month'+'_'+str(i))\n",
    "    i = i + 1\n",
    "dfs"
   ]
  },
  {
   "cell_type": "code",
   "execution_count": 12,
   "metadata": {},
   "outputs": [],
   "source": [
    "# Iterating and storing the dataframes in a list\n",
    "i = 0\n",
    "for zip in zip_list:\n",
    "    path = 'C:/Users/Pavan/Google Drive/Courses/Data_Analytics/L5_Data_Visualization/Final_Project/zip_files/' + zip\n",
    "    zf = zipfile.ZipFile(path)\n",
    "    dfs[i] = pd.read_csv(zf.open((path.split('/')[-1].split('.')[0] + '.' + path.split('/')[-1].split('.')[1])))\n",
    "    i = i + 1"
   ]
  },
  {
   "cell_type": "code",
   "execution_count": 13,
   "metadata": {},
   "outputs": [
    {
     "data": {
      "text/html": [
       "<div>\n",
       "<style scoped>\n",
       "    .dataframe tbody tr th:only-of-type {\n",
       "        vertical-align: middle;\n",
       "    }\n",
       "\n",
       "    .dataframe tbody tr th {\n",
       "        vertical-align: top;\n",
       "    }\n",
       "\n",
       "    .dataframe thead th {\n",
       "        text-align: right;\n",
       "    }\n",
       "</style>\n",
       "<table border=\"1\" class=\"dataframe\">\n",
       "  <thead>\n",
       "    <tr style=\"text-align: right;\">\n",
       "      <th></th>\n",
       "      <th>duration_sec</th>\n",
       "      <th>start_time</th>\n",
       "      <th>end_time</th>\n",
       "      <th>start_station_id</th>\n",
       "      <th>start_station_name</th>\n",
       "      <th>start_station_latitude</th>\n",
       "      <th>start_station_longitude</th>\n",
       "      <th>end_station_id</th>\n",
       "      <th>end_station_name</th>\n",
       "      <th>end_station_latitude</th>\n",
       "      <th>end_station_longitude</th>\n",
       "      <th>bike_id</th>\n",
       "      <th>user_type</th>\n",
       "      <th>bike_share_for_all_trip</th>\n",
       "    </tr>\n",
       "  </thead>\n",
       "  <tbody>\n",
       "    <tr>\n",
       "      <th>0</th>\n",
       "      <td>75284</td>\n",
       "      <td>2018-01-31 22:52:35.2390</td>\n",
       "      <td>2018-02-01 19:47:19.8240</td>\n",
       "      <td>120</td>\n",
       "      <td>Mission Dolores Park</td>\n",
       "      <td>37.761420</td>\n",
       "      <td>-122.426435</td>\n",
       "      <td>285</td>\n",
       "      <td>Webster St at O'Farrell St</td>\n",
       "      <td>37.783521</td>\n",
       "      <td>-122.431158</td>\n",
       "      <td>2765</td>\n",
       "      <td>Subscriber</td>\n",
       "      <td>No</td>\n",
       "    </tr>\n",
       "    <tr>\n",
       "      <th>1</th>\n",
       "      <td>85422</td>\n",
       "      <td>2018-01-31 16:13:34.3510</td>\n",
       "      <td>2018-02-01 15:57:17.3100</td>\n",
       "      <td>15</td>\n",
       "      <td>San Francisco Ferry Building (Harry Bridges Pl...</td>\n",
       "      <td>37.795392</td>\n",
       "      <td>-122.394203</td>\n",
       "      <td>15</td>\n",
       "      <td>San Francisco Ferry Building (Harry Bridges Pl...</td>\n",
       "      <td>37.795392</td>\n",
       "      <td>-122.394203</td>\n",
       "      <td>2815</td>\n",
       "      <td>Customer</td>\n",
       "      <td>No</td>\n",
       "    </tr>\n",
       "    <tr>\n",
       "      <th>2</th>\n",
       "      <td>71576</td>\n",
       "      <td>2018-01-31 14:23:55.8890</td>\n",
       "      <td>2018-02-01 10:16:52.1160</td>\n",
       "      <td>304</td>\n",
       "      <td>Jackson St at 5th St</td>\n",
       "      <td>37.348759</td>\n",
       "      <td>-121.894798</td>\n",
       "      <td>296</td>\n",
       "      <td>5th St at Virginia St</td>\n",
       "      <td>37.325998</td>\n",
       "      <td>-121.877120</td>\n",
       "      <td>3039</td>\n",
       "      <td>Customer</td>\n",
       "      <td>No</td>\n",
       "    </tr>\n",
       "    <tr>\n",
       "      <th>3</th>\n",
       "      <td>61076</td>\n",
       "      <td>2018-01-31 14:53:23.5620</td>\n",
       "      <td>2018-02-01 07:51:20.5000</td>\n",
       "      <td>75</td>\n",
       "      <td>Market St at Franklin St</td>\n",
       "      <td>37.773793</td>\n",
       "      <td>-122.421239</td>\n",
       "      <td>47</td>\n",
       "      <td>4th St at Harrison St</td>\n",
       "      <td>37.780955</td>\n",
       "      <td>-122.399749</td>\n",
       "      <td>321</td>\n",
       "      <td>Customer</td>\n",
       "      <td>No</td>\n",
       "    </tr>\n",
       "    <tr>\n",
       "      <th>4</th>\n",
       "      <td>39966</td>\n",
       "      <td>2018-01-31 19:52:24.6670</td>\n",
       "      <td>2018-02-01 06:58:31.0530</td>\n",
       "      <td>74</td>\n",
       "      <td>Laguna St at Hayes St</td>\n",
       "      <td>37.776435</td>\n",
       "      <td>-122.426244</td>\n",
       "      <td>19</td>\n",
       "      <td>Post St at Kearny St</td>\n",
       "      <td>37.788975</td>\n",
       "      <td>-122.403452</td>\n",
       "      <td>617</td>\n",
       "      <td>Subscriber</td>\n",
       "      <td>No</td>\n",
       "    </tr>\n",
       "    <tr>\n",
       "      <th>...</th>\n",
       "      <td>...</td>\n",
       "      <td>...</td>\n",
       "      <td>...</td>\n",
       "      <td>...</td>\n",
       "      <td>...</td>\n",
       "      <td>...</td>\n",
       "      <td>...</td>\n",
       "      <td>...</td>\n",
       "      <td>...</td>\n",
       "      <td>...</td>\n",
       "      <td>...</td>\n",
       "      <td>...</td>\n",
       "      <td>...</td>\n",
       "      <td>...</td>\n",
       "    </tr>\n",
       "    <tr>\n",
       "      <th>94797</th>\n",
       "      <td>695</td>\n",
       "      <td>2018-01-01 00:19:58.7610</td>\n",
       "      <td>2018-01-01 00:31:33.8320</td>\n",
       "      <td>23</td>\n",
       "      <td>The Embarcadero at Steuart St</td>\n",
       "      <td>37.791464</td>\n",
       "      <td>-122.391034</td>\n",
       "      <td>66</td>\n",
       "      <td>3rd St at Townsend St</td>\n",
       "      <td>37.778742</td>\n",
       "      <td>-122.392741</td>\n",
       "      <td>3671</td>\n",
       "      <td>Customer</td>\n",
       "      <td>No</td>\n",
       "    </tr>\n",
       "    <tr>\n",
       "      <th>94798</th>\n",
       "      <td>600</td>\n",
       "      <td>2018-01-01 00:19:48.7610</td>\n",
       "      <td>2018-01-01 00:29:49.0740</td>\n",
       "      <td>17</td>\n",
       "      <td>Embarcadero BART Station (Beale St at Market St)</td>\n",
       "      <td>37.792251</td>\n",
       "      <td>-122.397086</td>\n",
       "      <td>19</td>\n",
       "      <td>Post St at Kearny St</td>\n",
       "      <td>37.788975</td>\n",
       "      <td>-122.403452</td>\n",
       "      <td>603</td>\n",
       "      <td>Customer</td>\n",
       "      <td>No</td>\n",
       "    </tr>\n",
       "    <tr>\n",
       "      <th>94799</th>\n",
       "      <td>1151</td>\n",
       "      <td>2018-01-01 00:09:31.7450</td>\n",
       "      <td>2018-01-01 00:28:43.1590</td>\n",
       "      <td>97</td>\n",
       "      <td>14th St at Mission St</td>\n",
       "      <td>37.768265</td>\n",
       "      <td>-122.420110</td>\n",
       "      <td>125</td>\n",
       "      <td>20th St at Bryant St</td>\n",
       "      <td>37.759200</td>\n",
       "      <td>-122.409851</td>\n",
       "      <td>3455</td>\n",
       "      <td>Subscriber</td>\n",
       "      <td>No</td>\n",
       "    </tr>\n",
       "    <tr>\n",
       "      <th>94800</th>\n",
       "      <td>714</td>\n",
       "      <td>2018-01-01 00:07:52.9430</td>\n",
       "      <td>2018-01-01 00:19:47.0750</td>\n",
       "      <td>74</td>\n",
       "      <td>Laguna St at Hayes St</td>\n",
       "      <td>37.776435</td>\n",
       "      <td>-122.426244</td>\n",
       "      <td>70</td>\n",
       "      <td>Central Ave at Fell St</td>\n",
       "      <td>37.773311</td>\n",
       "      <td>-122.444293</td>\n",
       "      <td>2423</td>\n",
       "      <td>Subscriber</td>\n",
       "      <td>No</td>\n",
       "    </tr>\n",
       "    <tr>\n",
       "      <th>94801</th>\n",
       "      <td>145</td>\n",
       "      <td>2018-01-01 00:07:41.0400</td>\n",
       "      <td>2018-01-01 00:10:06.2410</td>\n",
       "      <td>316</td>\n",
       "      <td>San Salvador St at 1st St</td>\n",
       "      <td>37.330165</td>\n",
       "      <td>-121.885831</td>\n",
       "      <td>311</td>\n",
       "      <td>Paseo De San Antonio at 2nd St</td>\n",
       "      <td>37.333798</td>\n",
       "      <td>-121.886943</td>\n",
       "      <td>2473</td>\n",
       "      <td>Subscriber</td>\n",
       "      <td>No</td>\n",
       "    </tr>\n",
       "  </tbody>\n",
       "</table>\n",
       "<p>94802 rows × 14 columns</p>\n",
       "</div>"
      ],
      "text/plain": [
       "       duration_sec                start_time                  end_time  \\\n",
       "0             75284  2018-01-31 22:52:35.2390  2018-02-01 19:47:19.8240   \n",
       "1             85422  2018-01-31 16:13:34.3510  2018-02-01 15:57:17.3100   \n",
       "2             71576  2018-01-31 14:23:55.8890  2018-02-01 10:16:52.1160   \n",
       "3             61076  2018-01-31 14:53:23.5620  2018-02-01 07:51:20.5000   \n",
       "4             39966  2018-01-31 19:52:24.6670  2018-02-01 06:58:31.0530   \n",
       "...             ...                       ...                       ...   \n",
       "94797           695  2018-01-01 00:19:58.7610  2018-01-01 00:31:33.8320   \n",
       "94798           600  2018-01-01 00:19:48.7610  2018-01-01 00:29:49.0740   \n",
       "94799          1151  2018-01-01 00:09:31.7450  2018-01-01 00:28:43.1590   \n",
       "94800           714  2018-01-01 00:07:52.9430  2018-01-01 00:19:47.0750   \n",
       "94801           145  2018-01-01 00:07:41.0400  2018-01-01 00:10:06.2410   \n",
       "\n",
       "       start_station_id                                 start_station_name  \\\n",
       "0                   120                               Mission Dolores Park   \n",
       "1                    15  San Francisco Ferry Building (Harry Bridges Pl...   \n",
       "2                   304                               Jackson St at 5th St   \n",
       "3                    75                           Market St at Franklin St   \n",
       "4                    74                              Laguna St at Hayes St   \n",
       "...                 ...                                                ...   \n",
       "94797                23                      The Embarcadero at Steuart St   \n",
       "94798                17   Embarcadero BART Station (Beale St at Market St)   \n",
       "94799                97                              14th St at Mission St   \n",
       "94800                74                              Laguna St at Hayes St   \n",
       "94801               316                          San Salvador St at 1st St   \n",
       "\n",
       "       start_station_latitude  start_station_longitude  end_station_id  \\\n",
       "0                   37.761420              -122.426435             285   \n",
       "1                   37.795392              -122.394203              15   \n",
       "2                   37.348759              -121.894798             296   \n",
       "3                   37.773793              -122.421239              47   \n",
       "4                   37.776435              -122.426244              19   \n",
       "...                       ...                      ...             ...   \n",
       "94797               37.791464              -122.391034              66   \n",
       "94798               37.792251              -122.397086              19   \n",
       "94799               37.768265              -122.420110             125   \n",
       "94800               37.776435              -122.426244              70   \n",
       "94801               37.330165              -121.885831             311   \n",
       "\n",
       "                                        end_station_name  \\\n",
       "0                             Webster St at O'Farrell St   \n",
       "1      San Francisco Ferry Building (Harry Bridges Pl...   \n",
       "2                                  5th St at Virginia St   \n",
       "3                                  4th St at Harrison St   \n",
       "4                                   Post St at Kearny St   \n",
       "...                                                  ...   \n",
       "94797                              3rd St at Townsend St   \n",
       "94798                               Post St at Kearny St   \n",
       "94799                               20th St at Bryant St   \n",
       "94800                             Central Ave at Fell St   \n",
       "94801                     Paseo De San Antonio at 2nd St   \n",
       "\n",
       "       end_station_latitude  end_station_longitude  bike_id   user_type  \\\n",
       "0                 37.783521            -122.431158     2765  Subscriber   \n",
       "1                 37.795392            -122.394203     2815    Customer   \n",
       "2                 37.325998            -121.877120     3039    Customer   \n",
       "3                 37.780955            -122.399749      321    Customer   \n",
       "4                 37.788975            -122.403452      617  Subscriber   \n",
       "...                     ...                    ...      ...         ...   \n",
       "94797             37.778742            -122.392741     3671    Customer   \n",
       "94798             37.788975            -122.403452      603    Customer   \n",
       "94799             37.759200            -122.409851     3455  Subscriber   \n",
       "94800             37.773311            -122.444293     2423  Subscriber   \n",
       "94801             37.333798            -121.886943     2473  Subscriber   \n",
       "\n",
       "      bike_share_for_all_trip  \n",
       "0                          No  \n",
       "1                          No  \n",
       "2                          No  \n",
       "3                          No  \n",
       "4                          No  \n",
       "...                       ...  \n",
       "94797                      No  \n",
       "94798                      No  \n",
       "94799                      No  \n",
       "94800                      No  \n",
       "94801                      No  \n",
       "\n",
       "[94802 rows x 14 columns]"
      ]
     },
     "execution_count": 13,
     "metadata": {},
     "output_type": "execute_result"
    }
   ],
   "source": [
    "# Let's check whether the dataframes turned out well or not. Checking for the month of January.\n",
    "dfs[0]"
   ]
  },
  {
   "cell_type": "code",
   "execution_count": 14,
   "metadata": {},
   "outputs": [
    {
     "data": {
      "text/html": [
       "<div>\n",
       "<style scoped>\n",
       "    .dataframe tbody tr th:only-of-type {\n",
       "        vertical-align: middle;\n",
       "    }\n",
       "\n",
       "    .dataframe tbody tr th {\n",
       "        vertical-align: top;\n",
       "    }\n",
       "\n",
       "    .dataframe thead th {\n",
       "        text-align: right;\n",
       "    }\n",
       "</style>\n",
       "<table border=\"1\" class=\"dataframe\">\n",
       "  <thead>\n",
       "    <tr style=\"text-align: right;\">\n",
       "      <th></th>\n",
       "      <th>duration_sec</th>\n",
       "      <th>start_time</th>\n",
       "      <th>end_time</th>\n",
       "      <th>start_station_id</th>\n",
       "      <th>start_station_name</th>\n",
       "      <th>start_station_latitude</th>\n",
       "      <th>start_station_longitude</th>\n",
       "      <th>end_station_id</th>\n",
       "      <th>end_station_name</th>\n",
       "      <th>end_station_latitude</th>\n",
       "      <th>end_station_longitude</th>\n",
       "      <th>bike_id</th>\n",
       "      <th>user_type</th>\n",
       "      <th>bike_share_for_all_trip</th>\n",
       "    </tr>\n",
       "  </thead>\n",
       "  <tbody>\n",
       "    <tr>\n",
       "      <th>0</th>\n",
       "      <td>75284</td>\n",
       "      <td>2018-01-31 22:52:35.2390</td>\n",
       "      <td>2018-02-01 19:47:19.8240</td>\n",
       "      <td>120.0</td>\n",
       "      <td>Mission Dolores Park</td>\n",
       "      <td>37.761420</td>\n",
       "      <td>-122.426435</td>\n",
       "      <td>285.0</td>\n",
       "      <td>Webster St at O'Farrell St</td>\n",
       "      <td>37.783521</td>\n",
       "      <td>-122.431158</td>\n",
       "      <td>2765</td>\n",
       "      <td>Subscriber</td>\n",
       "      <td>No</td>\n",
       "    </tr>\n",
       "    <tr>\n",
       "      <th>1</th>\n",
       "      <td>85422</td>\n",
       "      <td>2018-01-31 16:13:34.3510</td>\n",
       "      <td>2018-02-01 15:57:17.3100</td>\n",
       "      <td>15.0</td>\n",
       "      <td>San Francisco Ferry Building (Harry Bridges Pl...</td>\n",
       "      <td>37.795392</td>\n",
       "      <td>-122.394203</td>\n",
       "      <td>15.0</td>\n",
       "      <td>San Francisco Ferry Building (Harry Bridges Pl...</td>\n",
       "      <td>37.795392</td>\n",
       "      <td>-122.394203</td>\n",
       "      <td>2815</td>\n",
       "      <td>Customer</td>\n",
       "      <td>No</td>\n",
       "    </tr>\n",
       "    <tr>\n",
       "      <th>2</th>\n",
       "      <td>71576</td>\n",
       "      <td>2018-01-31 14:23:55.8890</td>\n",
       "      <td>2018-02-01 10:16:52.1160</td>\n",
       "      <td>304.0</td>\n",
       "      <td>Jackson St at 5th St</td>\n",
       "      <td>37.348759</td>\n",
       "      <td>-121.894798</td>\n",
       "      <td>296.0</td>\n",
       "      <td>5th St at Virginia St</td>\n",
       "      <td>37.325998</td>\n",
       "      <td>-121.877120</td>\n",
       "      <td>3039</td>\n",
       "      <td>Customer</td>\n",
       "      <td>No</td>\n",
       "    </tr>\n",
       "    <tr>\n",
       "      <th>3</th>\n",
       "      <td>61076</td>\n",
       "      <td>2018-01-31 14:53:23.5620</td>\n",
       "      <td>2018-02-01 07:51:20.5000</td>\n",
       "      <td>75.0</td>\n",
       "      <td>Market St at Franklin St</td>\n",
       "      <td>37.773793</td>\n",
       "      <td>-122.421239</td>\n",
       "      <td>47.0</td>\n",
       "      <td>4th St at Harrison St</td>\n",
       "      <td>37.780955</td>\n",
       "      <td>-122.399749</td>\n",
       "      <td>321</td>\n",
       "      <td>Customer</td>\n",
       "      <td>No</td>\n",
       "    </tr>\n",
       "    <tr>\n",
       "      <th>4</th>\n",
       "      <td>39966</td>\n",
       "      <td>2018-01-31 19:52:24.6670</td>\n",
       "      <td>2018-02-01 06:58:31.0530</td>\n",
       "      <td>74.0</td>\n",
       "      <td>Laguna St at Hayes St</td>\n",
       "      <td>37.776435</td>\n",
       "      <td>-122.426244</td>\n",
       "      <td>19.0</td>\n",
       "      <td>Post St at Kearny St</td>\n",
       "      <td>37.788975</td>\n",
       "      <td>-122.403452</td>\n",
       "      <td>617</td>\n",
       "      <td>Subscriber</td>\n",
       "      <td>No</td>\n",
       "    </tr>\n",
       "    <tr>\n",
       "      <th>...</th>\n",
       "      <td>...</td>\n",
       "      <td>...</td>\n",
       "      <td>...</td>\n",
       "      <td>...</td>\n",
       "      <td>...</td>\n",
       "      <td>...</td>\n",
       "      <td>...</td>\n",
       "      <td>...</td>\n",
       "      <td>...</td>\n",
       "      <td>...</td>\n",
       "      <td>...</td>\n",
       "      <td>...</td>\n",
       "      <td>...</td>\n",
       "      <td>...</td>\n",
       "    </tr>\n",
       "    <tr>\n",
       "      <th>1863716</th>\n",
       "      <td>473</td>\n",
       "      <td>2018-12-01 00:11:54.8110</td>\n",
       "      <td>2018-12-01 00:19:48.5470</td>\n",
       "      <td>345.0</td>\n",
       "      <td>Hubbell St at 16th St</td>\n",
       "      <td>37.766474</td>\n",
       "      <td>-122.398295</td>\n",
       "      <td>81.0</td>\n",
       "      <td>Berry St at 4th St</td>\n",
       "      <td>37.775880</td>\n",
       "      <td>-122.393170</td>\n",
       "      <td>3035</td>\n",
       "      <td>Subscriber</td>\n",
       "      <td>No</td>\n",
       "    </tr>\n",
       "    <tr>\n",
       "      <th>1863717</th>\n",
       "      <td>841</td>\n",
       "      <td>2018-12-01 00:02:48.7260</td>\n",
       "      <td>2018-12-01 00:16:49.7660</td>\n",
       "      <td>10.0</td>\n",
       "      <td>Washington St at Kearny St</td>\n",
       "      <td>37.795393</td>\n",
       "      <td>-122.404770</td>\n",
       "      <td>58.0</td>\n",
       "      <td>Market St at 10th St</td>\n",
       "      <td>37.776619</td>\n",
       "      <td>-122.417385</td>\n",
       "      <td>2034</td>\n",
       "      <td>Subscriber</td>\n",
       "      <td>No</td>\n",
       "    </tr>\n",
       "    <tr>\n",
       "      <th>1863718</th>\n",
       "      <td>260</td>\n",
       "      <td>2018-12-01 00:05:27.6150</td>\n",
       "      <td>2018-12-01 00:09:47.9560</td>\n",
       "      <td>245.0</td>\n",
       "      <td>Downtown Berkeley BART</td>\n",
       "      <td>37.870139</td>\n",
       "      <td>-122.268422</td>\n",
       "      <td>255.0</td>\n",
       "      <td>Virginia St at Shattuck Ave</td>\n",
       "      <td>37.876573</td>\n",
       "      <td>-122.269528</td>\n",
       "      <td>2243</td>\n",
       "      <td>Subscriber</td>\n",
       "      <td>No</td>\n",
       "    </tr>\n",
       "    <tr>\n",
       "      <th>1863719</th>\n",
       "      <td>292</td>\n",
       "      <td>2018-12-01 00:03:06.5490</td>\n",
       "      <td>2018-12-01 00:07:59.0800</td>\n",
       "      <td>93.0</td>\n",
       "      <td>4th St at Mission Bay Blvd S</td>\n",
       "      <td>37.770407</td>\n",
       "      <td>-122.391198</td>\n",
       "      <td>126.0</td>\n",
       "      <td>Esprit Park</td>\n",
       "      <td>37.761634</td>\n",
       "      <td>-122.390648</td>\n",
       "      <td>545</td>\n",
       "      <td>Subscriber</td>\n",
       "      <td>No</td>\n",
       "    </tr>\n",
       "    <tr>\n",
       "      <th>1863720</th>\n",
       "      <td>150</td>\n",
       "      <td>2018-12-01 00:03:05.7420</td>\n",
       "      <td>2018-12-01 00:05:36.0260</td>\n",
       "      <td>107.0</td>\n",
       "      <td>17th St at Dolores St</td>\n",
       "      <td>37.763015</td>\n",
       "      <td>-122.426497</td>\n",
       "      <td>119.0</td>\n",
       "      <td>18th St at Noe St</td>\n",
       "      <td>37.761047</td>\n",
       "      <td>-122.432642</td>\n",
       "      <td>4319</td>\n",
       "      <td>Subscriber</td>\n",
       "      <td>No</td>\n",
       "    </tr>\n",
       "  </tbody>\n",
       "</table>\n",
       "<p>1863721 rows × 14 columns</p>\n",
       "</div>"
      ],
      "text/plain": [
       "         duration_sec                start_time                  end_time  \\\n",
       "0               75284  2018-01-31 22:52:35.2390  2018-02-01 19:47:19.8240   \n",
       "1               85422  2018-01-31 16:13:34.3510  2018-02-01 15:57:17.3100   \n",
       "2               71576  2018-01-31 14:23:55.8890  2018-02-01 10:16:52.1160   \n",
       "3               61076  2018-01-31 14:53:23.5620  2018-02-01 07:51:20.5000   \n",
       "4               39966  2018-01-31 19:52:24.6670  2018-02-01 06:58:31.0530   \n",
       "...               ...                       ...                       ...   \n",
       "1863716           473  2018-12-01 00:11:54.8110  2018-12-01 00:19:48.5470   \n",
       "1863717           841  2018-12-01 00:02:48.7260  2018-12-01 00:16:49.7660   \n",
       "1863718           260  2018-12-01 00:05:27.6150  2018-12-01 00:09:47.9560   \n",
       "1863719           292  2018-12-01 00:03:06.5490  2018-12-01 00:07:59.0800   \n",
       "1863720           150  2018-12-01 00:03:05.7420  2018-12-01 00:05:36.0260   \n",
       "\n",
       "         start_station_id                                 start_station_name  \\\n",
       "0                   120.0                               Mission Dolores Park   \n",
       "1                    15.0  San Francisco Ferry Building (Harry Bridges Pl...   \n",
       "2                   304.0                               Jackson St at 5th St   \n",
       "3                    75.0                           Market St at Franklin St   \n",
       "4                    74.0                              Laguna St at Hayes St   \n",
       "...                   ...                                                ...   \n",
       "1863716             345.0                              Hubbell St at 16th St   \n",
       "1863717              10.0                         Washington St at Kearny St   \n",
       "1863718             245.0                             Downtown Berkeley BART   \n",
       "1863719              93.0                       4th St at Mission Bay Blvd S   \n",
       "1863720             107.0                              17th St at Dolores St   \n",
       "\n",
       "         start_station_latitude  start_station_longitude  end_station_id  \\\n",
       "0                     37.761420              -122.426435           285.0   \n",
       "1                     37.795392              -122.394203            15.0   \n",
       "2                     37.348759              -121.894798           296.0   \n",
       "3                     37.773793              -122.421239            47.0   \n",
       "4                     37.776435              -122.426244            19.0   \n",
       "...                         ...                      ...             ...   \n",
       "1863716               37.766474              -122.398295            81.0   \n",
       "1863717               37.795393              -122.404770            58.0   \n",
       "1863718               37.870139              -122.268422           255.0   \n",
       "1863719               37.770407              -122.391198           126.0   \n",
       "1863720               37.763015              -122.426497           119.0   \n",
       "\n",
       "                                          end_station_name  \\\n",
       "0                               Webster St at O'Farrell St   \n",
       "1        San Francisco Ferry Building (Harry Bridges Pl...   \n",
       "2                                    5th St at Virginia St   \n",
       "3                                    4th St at Harrison St   \n",
       "4                                     Post St at Kearny St   \n",
       "...                                                    ...   \n",
       "1863716                                 Berry St at 4th St   \n",
       "1863717                               Market St at 10th St   \n",
       "1863718                        Virginia St at Shattuck Ave   \n",
       "1863719                                        Esprit Park   \n",
       "1863720                                  18th St at Noe St   \n",
       "\n",
       "         end_station_latitude  end_station_longitude  bike_id   user_type  \\\n",
       "0                   37.783521            -122.431158     2765  Subscriber   \n",
       "1                   37.795392            -122.394203     2815    Customer   \n",
       "2                   37.325998            -121.877120     3039    Customer   \n",
       "3                   37.780955            -122.399749      321    Customer   \n",
       "4                   37.788975            -122.403452      617  Subscriber   \n",
       "...                       ...                    ...      ...         ...   \n",
       "1863716             37.775880            -122.393170     3035  Subscriber   \n",
       "1863717             37.776619            -122.417385     2034  Subscriber   \n",
       "1863718             37.876573            -122.269528     2243  Subscriber   \n",
       "1863719             37.761634            -122.390648      545  Subscriber   \n",
       "1863720             37.761047            -122.432642     4319  Subscriber   \n",
       "\n",
       "        bike_share_for_all_trip  \n",
       "0                            No  \n",
       "1                            No  \n",
       "2                            No  \n",
       "3                            No  \n",
       "4                            No  \n",
       "...                         ...  \n",
       "1863716                      No  \n",
       "1863717                      No  \n",
       "1863718                      No  \n",
       "1863719                      No  \n",
       "1863720                      No  \n",
       "\n",
       "[1863721 rows x 14 columns]"
      ]
     },
     "execution_count": 14,
     "metadata": {},
     "output_type": "execute_result"
    }
   ],
   "source": [
    "# Let's concatenate all the dataframes together to create a master dataframe for the FY 2018.\n",
    "pdList = [dfs[0], dfs[1], dfs[2], dfs[3], dfs[4], dfs[5], dfs[6], dfs[7], dfs[8], dfs[9], dfs[10], dfs[11]]  \n",
    "master_df = pd.concat(pdList, ignore_index=True)\n",
    "master_df"
   ]
  },
  {
   "cell_type": "markdown",
   "metadata": {},
   "source": [
    "Finally, the master dataframe for the financial year 2018 has been created. This dataframe contains 1863721 rows and 14 columns. We completed the **entire** process of gathering the data **programmatically**, which is a great thing as this can be reproduced again very easily on any system. Gathering the data programmatically helps to tackle the issue of reproduciblity and scalability."
   ]
  },
  {
   "cell_type": "markdown",
   "metadata": {},
   "source": [
    "<a id='PartII'></a>"
   ]
  },
  {
   "cell_type": "markdown",
   "metadata": {},
   "source": [
    "## Part II - Assessing Data"
   ]
  },
  {
   "cell_type": "markdown",
   "metadata": {},
   "source": [
    "The next step would be to access the `master_df` and look out for any quality or tidiness issues to address before we begin our exploratory analysis via visualizations."
   ]
  },
  {
   "cell_type": "code",
   "execution_count": 15,
   "metadata": {},
   "outputs": [
    {
     "data": {
      "text/html": [
       "<div>\n",
       "<style scoped>\n",
       "    .dataframe tbody tr th:only-of-type {\n",
       "        vertical-align: middle;\n",
       "    }\n",
       "\n",
       "    .dataframe tbody tr th {\n",
       "        vertical-align: top;\n",
       "    }\n",
       "\n",
       "    .dataframe thead th {\n",
       "        text-align: right;\n",
       "    }\n",
       "</style>\n",
       "<table border=\"1\" class=\"dataframe\">\n",
       "  <thead>\n",
       "    <tr style=\"text-align: right;\">\n",
       "      <th></th>\n",
       "      <th>duration_sec</th>\n",
       "      <th>start_time</th>\n",
       "      <th>end_time</th>\n",
       "      <th>start_station_id</th>\n",
       "      <th>start_station_name</th>\n",
       "      <th>start_station_latitude</th>\n",
       "      <th>start_station_longitude</th>\n",
       "      <th>end_station_id</th>\n",
       "      <th>end_station_name</th>\n",
       "      <th>end_station_latitude</th>\n",
       "      <th>end_station_longitude</th>\n",
       "      <th>bike_id</th>\n",
       "      <th>user_type</th>\n",
       "      <th>bike_share_for_all_trip</th>\n",
       "    </tr>\n",
       "  </thead>\n",
       "  <tbody>\n",
       "    <tr>\n",
       "      <th>0</th>\n",
       "      <td>75284</td>\n",
       "      <td>2018-01-31 22:52:35.2390</td>\n",
       "      <td>2018-02-01 19:47:19.8240</td>\n",
       "      <td>120.0</td>\n",
       "      <td>Mission Dolores Park</td>\n",
       "      <td>37.761420</td>\n",
       "      <td>-122.426435</td>\n",
       "      <td>285.0</td>\n",
       "      <td>Webster St at O'Farrell St</td>\n",
       "      <td>37.783521</td>\n",
       "      <td>-122.431158</td>\n",
       "      <td>2765</td>\n",
       "      <td>Subscriber</td>\n",
       "      <td>No</td>\n",
       "    </tr>\n",
       "    <tr>\n",
       "      <th>1</th>\n",
       "      <td>85422</td>\n",
       "      <td>2018-01-31 16:13:34.3510</td>\n",
       "      <td>2018-02-01 15:57:17.3100</td>\n",
       "      <td>15.0</td>\n",
       "      <td>San Francisco Ferry Building (Harry Bridges Pl...</td>\n",
       "      <td>37.795392</td>\n",
       "      <td>-122.394203</td>\n",
       "      <td>15.0</td>\n",
       "      <td>San Francisco Ferry Building (Harry Bridges Pl...</td>\n",
       "      <td>37.795392</td>\n",
       "      <td>-122.394203</td>\n",
       "      <td>2815</td>\n",
       "      <td>Customer</td>\n",
       "      <td>No</td>\n",
       "    </tr>\n",
       "    <tr>\n",
       "      <th>2</th>\n",
       "      <td>71576</td>\n",
       "      <td>2018-01-31 14:23:55.8890</td>\n",
       "      <td>2018-02-01 10:16:52.1160</td>\n",
       "      <td>304.0</td>\n",
       "      <td>Jackson St at 5th St</td>\n",
       "      <td>37.348759</td>\n",
       "      <td>-121.894798</td>\n",
       "      <td>296.0</td>\n",
       "      <td>5th St at Virginia St</td>\n",
       "      <td>37.325998</td>\n",
       "      <td>-121.877120</td>\n",
       "      <td>3039</td>\n",
       "      <td>Customer</td>\n",
       "      <td>No</td>\n",
       "    </tr>\n",
       "    <tr>\n",
       "      <th>3</th>\n",
       "      <td>61076</td>\n",
       "      <td>2018-01-31 14:53:23.5620</td>\n",
       "      <td>2018-02-01 07:51:20.5000</td>\n",
       "      <td>75.0</td>\n",
       "      <td>Market St at Franklin St</td>\n",
       "      <td>37.773793</td>\n",
       "      <td>-122.421239</td>\n",
       "      <td>47.0</td>\n",
       "      <td>4th St at Harrison St</td>\n",
       "      <td>37.780955</td>\n",
       "      <td>-122.399749</td>\n",
       "      <td>321</td>\n",
       "      <td>Customer</td>\n",
       "      <td>No</td>\n",
       "    </tr>\n",
       "    <tr>\n",
       "      <th>4</th>\n",
       "      <td>39966</td>\n",
       "      <td>2018-01-31 19:52:24.6670</td>\n",
       "      <td>2018-02-01 06:58:31.0530</td>\n",
       "      <td>74.0</td>\n",
       "      <td>Laguna St at Hayes St</td>\n",
       "      <td>37.776435</td>\n",
       "      <td>-122.426244</td>\n",
       "      <td>19.0</td>\n",
       "      <td>Post St at Kearny St</td>\n",
       "      <td>37.788975</td>\n",
       "      <td>-122.403452</td>\n",
       "      <td>617</td>\n",
       "      <td>Subscriber</td>\n",
       "      <td>No</td>\n",
       "    </tr>\n",
       "  </tbody>\n",
       "</table>\n",
       "</div>"
      ],
      "text/plain": [
       "   duration_sec                start_time                  end_time  \\\n",
       "0         75284  2018-01-31 22:52:35.2390  2018-02-01 19:47:19.8240   \n",
       "1         85422  2018-01-31 16:13:34.3510  2018-02-01 15:57:17.3100   \n",
       "2         71576  2018-01-31 14:23:55.8890  2018-02-01 10:16:52.1160   \n",
       "3         61076  2018-01-31 14:53:23.5620  2018-02-01 07:51:20.5000   \n",
       "4         39966  2018-01-31 19:52:24.6670  2018-02-01 06:58:31.0530   \n",
       "\n",
       "   start_station_id                                 start_station_name  \\\n",
       "0             120.0                               Mission Dolores Park   \n",
       "1              15.0  San Francisco Ferry Building (Harry Bridges Pl...   \n",
       "2             304.0                               Jackson St at 5th St   \n",
       "3              75.0                           Market St at Franklin St   \n",
       "4              74.0                              Laguna St at Hayes St   \n",
       "\n",
       "   start_station_latitude  start_station_longitude  end_station_id  \\\n",
       "0               37.761420              -122.426435           285.0   \n",
       "1               37.795392              -122.394203            15.0   \n",
       "2               37.348759              -121.894798           296.0   \n",
       "3               37.773793              -122.421239            47.0   \n",
       "4               37.776435              -122.426244            19.0   \n",
       "\n",
       "                                    end_station_name  end_station_latitude  \\\n",
       "0                         Webster St at O'Farrell St             37.783521   \n",
       "1  San Francisco Ferry Building (Harry Bridges Pl...             37.795392   \n",
       "2                              5th St at Virginia St             37.325998   \n",
       "3                              4th St at Harrison St             37.780955   \n",
       "4                               Post St at Kearny St             37.788975   \n",
       "\n",
       "   end_station_longitude  bike_id   user_type bike_share_for_all_trip  \n",
       "0            -122.431158     2765  Subscriber                      No  \n",
       "1            -122.394203     2815    Customer                      No  \n",
       "2            -121.877120     3039    Customer                      No  \n",
       "3            -122.399749      321    Customer                      No  \n",
       "4            -122.403452      617  Subscriber                      No  "
      ]
     },
     "execution_count": 15,
     "metadata": {},
     "output_type": "execute_result"
    }
   ],
   "source": [
    "# Visually accessing the first 5 records\n",
    "master_df.head()"
   ]
  },
  {
   "cell_type": "code",
   "execution_count": 16,
   "metadata": {},
   "outputs": [
    {
     "data": {
      "text/html": [
       "<div>\n",
       "<style scoped>\n",
       "    .dataframe tbody tr th:only-of-type {\n",
       "        vertical-align: middle;\n",
       "    }\n",
       "\n",
       "    .dataframe tbody tr th {\n",
       "        vertical-align: top;\n",
       "    }\n",
       "\n",
       "    .dataframe thead th {\n",
       "        text-align: right;\n",
       "    }\n",
       "</style>\n",
       "<table border=\"1\" class=\"dataframe\">\n",
       "  <thead>\n",
       "    <tr style=\"text-align: right;\">\n",
       "      <th></th>\n",
       "      <th>duration_sec</th>\n",
       "      <th>start_time</th>\n",
       "      <th>end_time</th>\n",
       "      <th>start_station_id</th>\n",
       "      <th>start_station_name</th>\n",
       "      <th>start_station_latitude</th>\n",
       "      <th>start_station_longitude</th>\n",
       "      <th>end_station_id</th>\n",
       "      <th>end_station_name</th>\n",
       "      <th>end_station_latitude</th>\n",
       "      <th>end_station_longitude</th>\n",
       "      <th>bike_id</th>\n",
       "      <th>user_type</th>\n",
       "      <th>bike_share_for_all_trip</th>\n",
       "    </tr>\n",
       "  </thead>\n",
       "  <tbody>\n",
       "    <tr>\n",
       "      <th>981103</th>\n",
       "      <td>943</td>\n",
       "      <td>2018-07-07 17:54:10.2570</td>\n",
       "      <td>2018-07-07 18:09:53.9820</td>\n",
       "      <td>178.0</td>\n",
       "      <td>Broadway at 30th St</td>\n",
       "      <td>37.819381</td>\n",
       "      <td>-122.261928</td>\n",
       "      <td>18.0</td>\n",
       "      <td>Telegraph Ave at Alcatraz Ave</td>\n",
       "      <td>37.850222</td>\n",
       "      <td>-122.260172</td>\n",
       "      <td>2292</td>\n",
       "      <td>Subscriber</td>\n",
       "      <td>No</td>\n",
       "    </tr>\n",
       "    <tr>\n",
       "      <th>607212</th>\n",
       "      <td>485</td>\n",
       "      <td>2018-05-03 11:57:42.2580</td>\n",
       "      <td>2018-05-03 12:05:47.6790</td>\n",
       "      <td>321.0</td>\n",
       "      <td>5th at Folsom</td>\n",
       "      <td>37.780146</td>\n",
       "      <td>-122.403071</td>\n",
       "      <td>50.0</td>\n",
       "      <td>2nd St at Townsend St</td>\n",
       "      <td>37.780526</td>\n",
       "      <td>-122.390288</td>\n",
       "      <td>2228</td>\n",
       "      <td>Subscriber</td>\n",
       "      <td>Yes</td>\n",
       "    </tr>\n",
       "    <tr>\n",
       "      <th>655274</th>\n",
       "      <td>133</td>\n",
       "      <td>2018-06-26 13:56:44.1120</td>\n",
       "      <td>2018-06-26 13:58:57.3970</td>\n",
       "      <td>9.0</td>\n",
       "      <td>Broadway at Battery St</td>\n",
       "      <td>37.798572</td>\n",
       "      <td>-122.400869</td>\n",
       "      <td>14.0</td>\n",
       "      <td>Clay St at Battery St</td>\n",
       "      <td>37.795001</td>\n",
       "      <td>-122.399970</td>\n",
       "      <td>3572</td>\n",
       "      <td>Subscriber</td>\n",
       "      <td>No</td>\n",
       "    </tr>\n",
       "    <tr>\n",
       "      <th>1676021</th>\n",
       "      <td>392</td>\n",
       "      <td>2018-11-09 18:01:50.9800</td>\n",
       "      <td>2018-11-09 18:08:23.3210</td>\n",
       "      <td>6.0</td>\n",
       "      <td>The Embarcadero at Sansome St</td>\n",
       "      <td>37.804770</td>\n",
       "      <td>-122.403234</td>\n",
       "      <td>15.0</td>\n",
       "      <td>San Francisco Ferry Building (Harry Bridges Pl...</td>\n",
       "      <td>37.795392</td>\n",
       "      <td>-122.394203</td>\n",
       "      <td>277</td>\n",
       "      <td>Subscriber</td>\n",
       "      <td>No</td>\n",
       "    </tr>\n",
       "    <tr>\n",
       "      <th>95575</th>\n",
       "      <td>777</td>\n",
       "      <td>2018-02-28 18:14:26.4670</td>\n",
       "      <td>2018-02-28 18:27:23.7020</td>\n",
       "      <td>195.0</td>\n",
       "      <td>Bay Pl at Vernon St</td>\n",
       "      <td>37.812314</td>\n",
       "      <td>-122.260779</td>\n",
       "      <td>233.0</td>\n",
       "      <td>12th St at 4th Ave</td>\n",
       "      <td>37.795812</td>\n",
       "      <td>-122.255555</td>\n",
       "      <td>2534</td>\n",
       "      <td>Subscriber</td>\n",
       "      <td>No</td>\n",
       "    </tr>\n",
       "    <tr>\n",
       "      <th>1681821</th>\n",
       "      <td>383</td>\n",
       "      <td>2018-11-08 18:45:33.7660</td>\n",
       "      <td>2018-11-08 18:51:56.8080</td>\n",
       "      <td>81.0</td>\n",
       "      <td>Berry St at 4th St</td>\n",
       "      <td>37.775880</td>\n",
       "      <td>-122.393170</td>\n",
       "      <td>90.0</td>\n",
       "      <td>Townsend St at 7th St</td>\n",
       "      <td>37.771058</td>\n",
       "      <td>-122.402717</td>\n",
       "      <td>3241</td>\n",
       "      <td>Subscriber</td>\n",
       "      <td>No</td>\n",
       "    </tr>\n",
       "    <tr>\n",
       "      <th>1014509</th>\n",
       "      <td>890</td>\n",
       "      <td>2018-07-02 07:57:34.6140</td>\n",
       "      <td>2018-07-02 08:12:24.8520</td>\n",
       "      <td>30.0</td>\n",
       "      <td>San Francisco Caltrain (Townsend St at 4th St)</td>\n",
       "      <td>37.776598</td>\n",
       "      <td>-122.395282</td>\n",
       "      <td>22.0</td>\n",
       "      <td>Howard St at Beale St</td>\n",
       "      <td>37.789756</td>\n",
       "      <td>-122.394643</td>\n",
       "      <td>1605</td>\n",
       "      <td>Subscriber</td>\n",
       "      <td>No</td>\n",
       "    </tr>\n",
       "    <tr>\n",
       "      <th>431728</th>\n",
       "      <td>172</td>\n",
       "      <td>2018-04-03 19:26:33.2140</td>\n",
       "      <td>2018-04-03 19:29:26.1820</td>\n",
       "      <td>34.0</td>\n",
       "      <td>Father Alfred E Boeddeker Park</td>\n",
       "      <td>37.783988</td>\n",
       "      <td>-122.412408</td>\n",
       "      <td>5.0</td>\n",
       "      <td>Powell St BART Station (Market St at 5th St)</td>\n",
       "      <td>37.783899</td>\n",
       "      <td>-122.408445</td>\n",
       "      <td>3221</td>\n",
       "      <td>Subscriber</td>\n",
       "      <td>No</td>\n",
       "    </tr>\n",
       "    <tr>\n",
       "      <th>1349193</th>\n",
       "      <td>241</td>\n",
       "      <td>2018-09-09 21:38:28.7490</td>\n",
       "      <td>2018-09-09 21:42:30.4590</td>\n",
       "      <td>272.0</td>\n",
       "      <td>Woolsey St at Sacramento St</td>\n",
       "      <td>37.850578</td>\n",
       "      <td>-122.278175</td>\n",
       "      <td>241.0</td>\n",
       "      <td>Ashby BART Station</td>\n",
       "      <td>37.852477</td>\n",
       "      <td>-122.270213</td>\n",
       "      <td>3634</td>\n",
       "      <td>Subscriber</td>\n",
       "      <td>No</td>\n",
       "    </tr>\n",
       "    <tr>\n",
       "      <th>1749905</th>\n",
       "      <td>1878</td>\n",
       "      <td>2018-12-26 11:25:04.5300</td>\n",
       "      <td>2018-12-26 11:56:23.0800</td>\n",
       "      <td>144.0</td>\n",
       "      <td>Precita Park</td>\n",
       "      <td>37.747300</td>\n",
       "      <td>-122.411403</td>\n",
       "      <td>86.0</td>\n",
       "      <td>Market St at Dolores St</td>\n",
       "      <td>37.769305</td>\n",
       "      <td>-122.426826</td>\n",
       "      <td>5543</td>\n",
       "      <td>Customer</td>\n",
       "      <td>No</td>\n",
       "    </tr>\n",
       "    <tr>\n",
       "      <th>1619966</th>\n",
       "      <td>381</td>\n",
       "      <td>2018-11-26 17:02:07.6640</td>\n",
       "      <td>2018-11-26 17:08:29.5100</td>\n",
       "      <td>3.0</td>\n",
       "      <td>Powell St BART Station (Market St at 4th St)</td>\n",
       "      <td>37.786375</td>\n",
       "      <td>-122.404904</td>\n",
       "      <td>30.0</td>\n",
       "      <td>San Francisco Caltrain (Townsend St at 4th St)</td>\n",
       "      <td>37.776598</td>\n",
       "      <td>-122.395282</td>\n",
       "      <td>1565</td>\n",
       "      <td>Subscriber</td>\n",
       "      <td>No</td>\n",
       "    </tr>\n",
       "    <tr>\n",
       "      <th>36606</th>\n",
       "      <td>628</td>\n",
       "      <td>2018-01-22 09:17:41.8870</td>\n",
       "      <td>2018-01-22 09:28:09.9420</td>\n",
       "      <td>21.0</td>\n",
       "      <td>Montgomery St BART Station (Market St at 2nd St)</td>\n",
       "      <td>37.789625</td>\n",
       "      <td>-122.400811</td>\n",
       "      <td>81.0</td>\n",
       "      <td>Berry St at 4th St</td>\n",
       "      <td>37.775880</td>\n",
       "      <td>-122.393170</td>\n",
       "      <td>726</td>\n",
       "      <td>Subscriber</td>\n",
       "      <td>No</td>\n",
       "    </tr>\n",
       "    <tr>\n",
       "      <th>190126</th>\n",
       "      <td>576</td>\n",
       "      <td>2018-02-03 17:12:30.6810</td>\n",
       "      <td>2018-02-03 17:22:07.4780</td>\n",
       "      <td>167.0</td>\n",
       "      <td>College Ave at Harwood Ave</td>\n",
       "      <td>37.848152</td>\n",
       "      <td>-122.252160</td>\n",
       "      <td>266.0</td>\n",
       "      <td>Parker St at Fulton St</td>\n",
       "      <td>37.862464</td>\n",
       "      <td>-122.264791</td>\n",
       "      <td>2215</td>\n",
       "      <td>Subscriber</td>\n",
       "      <td>No</td>\n",
       "    </tr>\n",
       "    <tr>\n",
       "      <th>1678840</th>\n",
       "      <td>395</td>\n",
       "      <td>2018-11-09 09:31:18.6570</td>\n",
       "      <td>2018-11-09 09:37:54.0820</td>\n",
       "      <td>231.0</td>\n",
       "      <td>14th St at Filbert St</td>\n",
       "      <td>37.808750</td>\n",
       "      <td>-122.283282</td>\n",
       "      <td>160.0</td>\n",
       "      <td>West Oakland BART Station</td>\n",
       "      <td>37.805318</td>\n",
       "      <td>-122.294837</td>\n",
       "      <td>3396</td>\n",
       "      <td>Subscriber</td>\n",
       "      <td>No</td>\n",
       "    </tr>\n",
       "    <tr>\n",
       "      <th>1760799</th>\n",
       "      <td>228</td>\n",
       "      <td>2018-12-21 14:19:18.4290</td>\n",
       "      <td>2018-12-21 14:23:07.0720</td>\n",
       "      <td>81.0</td>\n",
       "      <td>Berry St at 4th St</td>\n",
       "      <td>37.775880</td>\n",
       "      <td>-122.393170</td>\n",
       "      <td>49.0</td>\n",
       "      <td>S Park St at 3rd St</td>\n",
       "      <td>37.780760</td>\n",
       "      <td>-122.394989</td>\n",
       "      <td>5140</td>\n",
       "      <td>Subscriber</td>\n",
       "      <td>No</td>\n",
       "    </tr>\n",
       "    <tr>\n",
       "      <th>1105132</th>\n",
       "      <td>268</td>\n",
       "      <td>2018-08-17 15:44:08.2850</td>\n",
       "      <td>2018-08-17 15:48:36.3260</td>\n",
       "      <td>310.0</td>\n",
       "      <td>San Fernando St at 4th St</td>\n",
       "      <td>37.335885</td>\n",
       "      <td>-121.885660</td>\n",
       "      <td>280.0</td>\n",
       "      <td>6th St at San Fernando St (Temporary Location)</td>\n",
       "      <td>37.337038</td>\n",
       "      <td>-121.884125</td>\n",
       "      <td>406</td>\n",
       "      <td>Subscriber</td>\n",
       "      <td>Yes</td>\n",
       "    </tr>\n",
       "    <tr>\n",
       "      <th>1129716</th>\n",
       "      <td>464</td>\n",
       "      <td>2018-08-14 07:38:41.6160</td>\n",
       "      <td>2018-08-14 07:46:26.0210</td>\n",
       "      <td>50.0</td>\n",
       "      <td>2nd St at Townsend St</td>\n",
       "      <td>37.780526</td>\n",
       "      <td>-122.390288</td>\n",
       "      <td>15.0</td>\n",
       "      <td>San Francisco Ferry Building (Harry Bridges Pl...</td>\n",
       "      <td>37.795392</td>\n",
       "      <td>-122.394203</td>\n",
       "      <td>550</td>\n",
       "      <td>Subscriber</td>\n",
       "      <td>No</td>\n",
       "    </tr>\n",
       "    <tr>\n",
       "      <th>1427193</th>\n",
       "      <td>552</td>\n",
       "      <td>2018-10-26 18:23:17.0290</td>\n",
       "      <td>2018-10-26 18:32:29.6000</td>\n",
       "      <td>66.0</td>\n",
       "      <td>3rd St at Townsend St</td>\n",
       "      <td>37.778742</td>\n",
       "      <td>-122.392741</td>\n",
       "      <td>15.0</td>\n",
       "      <td>San Francisco Ferry Building (Harry Bridges Pl...</td>\n",
       "      <td>37.795392</td>\n",
       "      <td>-122.394203</td>\n",
       "      <td>3650</td>\n",
       "      <td>Customer</td>\n",
       "      <td>No</td>\n",
       "    </tr>\n",
       "    <tr>\n",
       "      <th>1158114</th>\n",
       "      <td>697</td>\n",
       "      <td>2018-08-09 09:06:36.1300</td>\n",
       "      <td>2018-08-09 09:18:13.1860</td>\n",
       "      <td>267.0</td>\n",
       "      <td>Derby St at College Ave</td>\n",
       "      <td>37.861804</td>\n",
       "      <td>-122.253569</td>\n",
       "      <td>246.0</td>\n",
       "      <td>Berkeley Civic Center</td>\n",
       "      <td>37.869060</td>\n",
       "      <td>-122.270556</td>\n",
       "      <td>3417</td>\n",
       "      <td>Subscriber</td>\n",
       "      <td>No</td>\n",
       "    </tr>\n",
       "    <tr>\n",
       "      <th>465261</th>\n",
       "      <td>348</td>\n",
       "      <td>2018-05-28 19:19:17.7400</td>\n",
       "      <td>2018-05-28 19:25:05.8100</td>\n",
       "      <td>18.0</td>\n",
       "      <td>Telegraph Ave at Alcatraz Ave</td>\n",
       "      <td>37.850222</td>\n",
       "      <td>-122.260172</td>\n",
       "      <td>171.0</td>\n",
       "      <td>Rockridge BART Station</td>\n",
       "      <td>37.844279</td>\n",
       "      <td>-122.251900</td>\n",
       "      <td>2414</td>\n",
       "      <td>Subscriber</td>\n",
       "      <td>No</td>\n",
       "    </tr>\n",
       "    <tr>\n",
       "      <th>1805562</th>\n",
       "      <td>584</td>\n",
       "      <td>2018-12-13 08:51:16.6130</td>\n",
       "      <td>2018-12-13 09:01:01.1290</td>\n",
       "      <td>126.0</td>\n",
       "      <td>Esprit Park</td>\n",
       "      <td>37.761634</td>\n",
       "      <td>-122.390648</td>\n",
       "      <td>49.0</td>\n",
       "      <td>S Park St at 3rd St</td>\n",
       "      <td>37.780760</td>\n",
       "      <td>-122.394989</td>\n",
       "      <td>5245</td>\n",
       "      <td>Subscriber</td>\n",
       "      <td>No</td>\n",
       "    </tr>\n",
       "    <tr>\n",
       "      <th>1481414</th>\n",
       "      <td>1575</td>\n",
       "      <td>2018-10-18 11:56:01.4800</td>\n",
       "      <td>2018-10-18 12:22:16.7940</td>\n",
       "      <td>20.0</td>\n",
       "      <td>Mechanics Monument Plaza (Market St at Bush St)</td>\n",
       "      <td>37.791300</td>\n",
       "      <td>-122.399051</td>\n",
       "      <td>29.0</td>\n",
       "      <td>O'Farrell St at Divisadero St</td>\n",
       "      <td>37.782405</td>\n",
       "      <td>-122.439446</td>\n",
       "      <td>1814</td>\n",
       "      <td>Customer</td>\n",
       "      <td>No</td>\n",
       "    </tr>\n",
       "    <tr>\n",
       "      <th>580596</th>\n",
       "      <td>1014</td>\n",
       "      <td>2018-05-08 13:41:49.8310</td>\n",
       "      <td>2018-05-08 13:58:43.9440</td>\n",
       "      <td>240.0</td>\n",
       "      <td>Haste St at Telegraph Ave</td>\n",
       "      <td>37.866043</td>\n",
       "      <td>-122.258804</td>\n",
       "      <td>259.0</td>\n",
       "      <td>Addison St at Fourth St</td>\n",
       "      <td>37.866249</td>\n",
       "      <td>-122.299371</td>\n",
       "      <td>3316</td>\n",
       "      <td>Customer</td>\n",
       "      <td>No</td>\n",
       "    </tr>\n",
       "    <tr>\n",
       "      <th>1362091</th>\n",
       "      <td>733</td>\n",
       "      <td>2018-09-07 10:20:00.0910</td>\n",
       "      <td>2018-09-07 10:32:13.9190</td>\n",
       "      <td>129.0</td>\n",
       "      <td>Harrison St at 20th St</td>\n",
       "      <td>37.758862</td>\n",
       "      <td>-122.412544</td>\n",
       "      <td>67.0</td>\n",
       "      <td>San Francisco Caltrain Station 2  (Townsend St...</td>\n",
       "      <td>37.776639</td>\n",
       "      <td>-122.395526</td>\n",
       "      <td>1321</td>\n",
       "      <td>Customer</td>\n",
       "      <td>No</td>\n",
       "    </tr>\n",
       "    <tr>\n",
       "      <th>1210843</th>\n",
       "      <td>5381</td>\n",
       "      <td>2018-09-30 19:26:36.3000</td>\n",
       "      <td>2018-09-30 20:56:18.2270</td>\n",
       "      <td>311.0</td>\n",
       "      <td>Paseo De San Antonio at 2nd St</td>\n",
       "      <td>37.333798</td>\n",
       "      <td>-121.886943</td>\n",
       "      <td>278.0</td>\n",
       "      <td>The Alameda at Bush St</td>\n",
       "      <td>37.331932</td>\n",
       "      <td>-121.904888</td>\n",
       "      <td>2245</td>\n",
       "      <td>Subscriber</td>\n",
       "      <td>Yes</td>\n",
       "    </tr>\n",
       "  </tbody>\n",
       "</table>\n",
       "</div>"
      ],
      "text/plain": [
       "         duration_sec                start_time                  end_time  \\\n",
       "981103            943  2018-07-07 17:54:10.2570  2018-07-07 18:09:53.9820   \n",
       "607212            485  2018-05-03 11:57:42.2580  2018-05-03 12:05:47.6790   \n",
       "655274            133  2018-06-26 13:56:44.1120  2018-06-26 13:58:57.3970   \n",
       "1676021           392  2018-11-09 18:01:50.9800  2018-11-09 18:08:23.3210   \n",
       "95575             777  2018-02-28 18:14:26.4670  2018-02-28 18:27:23.7020   \n",
       "1681821           383  2018-11-08 18:45:33.7660  2018-11-08 18:51:56.8080   \n",
       "1014509           890  2018-07-02 07:57:34.6140  2018-07-02 08:12:24.8520   \n",
       "431728            172  2018-04-03 19:26:33.2140  2018-04-03 19:29:26.1820   \n",
       "1349193           241  2018-09-09 21:38:28.7490  2018-09-09 21:42:30.4590   \n",
       "1749905          1878  2018-12-26 11:25:04.5300  2018-12-26 11:56:23.0800   \n",
       "1619966           381  2018-11-26 17:02:07.6640  2018-11-26 17:08:29.5100   \n",
       "36606             628  2018-01-22 09:17:41.8870  2018-01-22 09:28:09.9420   \n",
       "190126            576  2018-02-03 17:12:30.6810  2018-02-03 17:22:07.4780   \n",
       "1678840           395  2018-11-09 09:31:18.6570  2018-11-09 09:37:54.0820   \n",
       "1760799           228  2018-12-21 14:19:18.4290  2018-12-21 14:23:07.0720   \n",
       "1105132           268  2018-08-17 15:44:08.2850  2018-08-17 15:48:36.3260   \n",
       "1129716           464  2018-08-14 07:38:41.6160  2018-08-14 07:46:26.0210   \n",
       "1427193           552  2018-10-26 18:23:17.0290  2018-10-26 18:32:29.6000   \n",
       "1158114           697  2018-08-09 09:06:36.1300  2018-08-09 09:18:13.1860   \n",
       "465261            348  2018-05-28 19:19:17.7400  2018-05-28 19:25:05.8100   \n",
       "1805562           584  2018-12-13 08:51:16.6130  2018-12-13 09:01:01.1290   \n",
       "1481414          1575  2018-10-18 11:56:01.4800  2018-10-18 12:22:16.7940   \n",
       "580596           1014  2018-05-08 13:41:49.8310  2018-05-08 13:58:43.9440   \n",
       "1362091           733  2018-09-07 10:20:00.0910  2018-09-07 10:32:13.9190   \n",
       "1210843          5381  2018-09-30 19:26:36.3000  2018-09-30 20:56:18.2270   \n",
       "\n",
       "         start_station_id                                start_station_name  \\\n",
       "981103              178.0                               Broadway at 30th St   \n",
       "607212              321.0                                     5th at Folsom   \n",
       "655274                9.0                            Broadway at Battery St   \n",
       "1676021               6.0                     The Embarcadero at Sansome St   \n",
       "95575               195.0                               Bay Pl at Vernon St   \n",
       "1681821              81.0                                Berry St at 4th St   \n",
       "1014509              30.0    San Francisco Caltrain (Townsend St at 4th St)   \n",
       "431728               34.0                    Father Alfred E Boeddeker Park   \n",
       "1349193             272.0                       Woolsey St at Sacramento St   \n",
       "1749905             144.0                                      Precita Park   \n",
       "1619966               3.0      Powell St BART Station (Market St at 4th St)   \n",
       "36606                21.0  Montgomery St BART Station (Market St at 2nd St)   \n",
       "190126              167.0                        College Ave at Harwood Ave   \n",
       "1678840             231.0                             14th St at Filbert St   \n",
       "1760799              81.0                                Berry St at 4th St   \n",
       "1105132             310.0                         San Fernando St at 4th St   \n",
       "1129716              50.0                             2nd St at Townsend St   \n",
       "1427193              66.0                             3rd St at Townsend St   \n",
       "1158114             267.0                           Derby St at College Ave   \n",
       "465261               18.0                     Telegraph Ave at Alcatraz Ave   \n",
       "1805562             126.0                                       Esprit Park   \n",
       "1481414              20.0   Mechanics Monument Plaza (Market St at Bush St)   \n",
       "580596              240.0                         Haste St at Telegraph Ave   \n",
       "1362091             129.0                            Harrison St at 20th St   \n",
       "1210843             311.0                    Paseo De San Antonio at 2nd St   \n",
       "\n",
       "         start_station_latitude  start_station_longitude  end_station_id  \\\n",
       "981103                37.819381              -122.261928            18.0   \n",
       "607212                37.780146              -122.403071            50.0   \n",
       "655274                37.798572              -122.400869            14.0   \n",
       "1676021               37.804770              -122.403234            15.0   \n",
       "95575                 37.812314              -122.260779           233.0   \n",
       "1681821               37.775880              -122.393170            90.0   \n",
       "1014509               37.776598              -122.395282            22.0   \n",
       "431728                37.783988              -122.412408             5.0   \n",
       "1349193               37.850578              -122.278175           241.0   \n",
       "1749905               37.747300              -122.411403            86.0   \n",
       "1619966               37.786375              -122.404904            30.0   \n",
       "36606                 37.789625              -122.400811            81.0   \n",
       "190126                37.848152              -122.252160           266.0   \n",
       "1678840               37.808750              -122.283282           160.0   \n",
       "1760799               37.775880              -122.393170            49.0   \n",
       "1105132               37.335885              -121.885660           280.0   \n",
       "1129716               37.780526              -122.390288            15.0   \n",
       "1427193               37.778742              -122.392741            15.0   \n",
       "1158114               37.861804              -122.253569           246.0   \n",
       "465261                37.850222              -122.260172           171.0   \n",
       "1805562               37.761634              -122.390648            49.0   \n",
       "1481414               37.791300              -122.399051            29.0   \n",
       "580596                37.866043              -122.258804           259.0   \n",
       "1362091               37.758862              -122.412544            67.0   \n",
       "1210843               37.333798              -121.886943           278.0   \n",
       "\n",
       "                                          end_station_name  \\\n",
       "981103                       Telegraph Ave at Alcatraz Ave   \n",
       "607212                               2nd St at Townsend St   \n",
       "655274                               Clay St at Battery St   \n",
       "1676021  San Francisco Ferry Building (Harry Bridges Pl...   \n",
       "95575                                   12th St at 4th Ave   \n",
       "1681821                              Townsend St at 7th St   \n",
       "1014509                              Howard St at Beale St   \n",
       "431728        Powell St BART Station (Market St at 5th St)   \n",
       "1349193                                 Ashby BART Station   \n",
       "1749905                            Market St at Dolores St   \n",
       "1619966     San Francisco Caltrain (Townsend St at 4th St)   \n",
       "36606                                   Berry St at 4th St   \n",
       "190126                              Parker St at Fulton St   \n",
       "1678840                          West Oakland BART Station   \n",
       "1760799                                S Park St at 3rd St   \n",
       "1105132     6th St at San Fernando St (Temporary Location)   \n",
       "1129716  San Francisco Ferry Building (Harry Bridges Pl...   \n",
       "1427193  San Francisco Ferry Building (Harry Bridges Pl...   \n",
       "1158114                              Berkeley Civic Center   \n",
       "465261                              Rockridge BART Station   \n",
       "1805562                                S Park St at 3rd St   \n",
       "1481414                      O'Farrell St at Divisadero St   \n",
       "580596                             Addison St at Fourth St   \n",
       "1362091  San Francisco Caltrain Station 2  (Townsend St...   \n",
       "1210843                             The Alameda at Bush St   \n",
       "\n",
       "         end_station_latitude  end_station_longitude  bike_id   user_type  \\\n",
       "981103              37.850222            -122.260172     2292  Subscriber   \n",
       "607212              37.780526            -122.390288     2228  Subscriber   \n",
       "655274              37.795001            -122.399970     3572  Subscriber   \n",
       "1676021             37.795392            -122.394203      277  Subscriber   \n",
       "95575               37.795812            -122.255555     2534  Subscriber   \n",
       "1681821             37.771058            -122.402717     3241  Subscriber   \n",
       "1014509             37.789756            -122.394643     1605  Subscriber   \n",
       "431728              37.783899            -122.408445     3221  Subscriber   \n",
       "1349193             37.852477            -122.270213     3634  Subscriber   \n",
       "1749905             37.769305            -122.426826     5543    Customer   \n",
       "1619966             37.776598            -122.395282     1565  Subscriber   \n",
       "36606               37.775880            -122.393170      726  Subscriber   \n",
       "190126              37.862464            -122.264791     2215  Subscriber   \n",
       "1678840             37.805318            -122.294837     3396  Subscriber   \n",
       "1760799             37.780760            -122.394989     5140  Subscriber   \n",
       "1105132             37.337038            -121.884125      406  Subscriber   \n",
       "1129716             37.795392            -122.394203      550  Subscriber   \n",
       "1427193             37.795392            -122.394203     3650    Customer   \n",
       "1158114             37.869060            -122.270556     3417  Subscriber   \n",
       "465261              37.844279            -122.251900     2414  Subscriber   \n",
       "1805562             37.780760            -122.394989     5245  Subscriber   \n",
       "1481414             37.782405            -122.439446     1814    Customer   \n",
       "580596              37.866249            -122.299371     3316    Customer   \n",
       "1362091             37.776639            -122.395526     1321    Customer   \n",
       "1210843             37.331932            -121.904888     2245  Subscriber   \n",
       "\n",
       "        bike_share_for_all_trip  \n",
       "981103                       No  \n",
       "607212                      Yes  \n",
       "655274                       No  \n",
       "1676021                      No  \n",
       "95575                        No  \n",
       "1681821                      No  \n",
       "1014509                      No  \n",
       "431728                       No  \n",
       "1349193                      No  \n",
       "1749905                      No  \n",
       "1619966                      No  \n",
       "36606                        No  \n",
       "190126                       No  \n",
       "1678840                      No  \n",
       "1760799                      No  \n",
       "1105132                     Yes  \n",
       "1129716                      No  \n",
       "1427193                      No  \n",
       "1158114                      No  \n",
       "465261                       No  \n",
       "1805562                      No  \n",
       "1481414                      No  \n",
       "580596                       No  \n",
       "1362091                      No  \n",
       "1210843                     Yes  "
      ]
     },
     "execution_count": 16,
     "metadata": {},
     "output_type": "execute_result"
    }
   ],
   "source": [
    "# Visually assessing 50 random records\n",
    "master_df.sample(25)"
   ]
  },
  {
   "cell_type": "code",
   "execution_count": 17,
   "metadata": {},
   "outputs": [
    {
     "name": "stdout",
     "output_type": "stream",
     "text": [
      "<class 'pandas.core.frame.DataFrame'>\n",
      "RangeIndex: 1863721 entries, 0 to 1863720\n",
      "Data columns (total 14 columns):\n",
      "duration_sec               1863721 non-null int64\n",
      "start_time                 1863721 non-null object\n",
      "end_time                   1863721 non-null object\n",
      "start_station_id           1851950 non-null float64\n",
      "start_station_name         1851950 non-null object\n",
      "start_station_latitude     1863721 non-null float64\n",
      "start_station_longitude    1863721 non-null float64\n",
      "end_station_id             1851950 non-null float64\n",
      "end_station_name           1851950 non-null object\n",
      "end_station_latitude       1863721 non-null float64\n",
      "end_station_longitude      1863721 non-null float64\n",
      "bike_id                    1863721 non-null int64\n",
      "user_type                  1863721 non-null object\n",
      "bike_share_for_all_trip    1863721 non-null object\n",
      "dtypes: float64(6), int64(2), object(6)\n",
      "memory usage: 199.1+ MB\n"
     ]
    }
   ],
   "source": [
    "# View info of the master dataframe\n",
    "master_df.info(verbose=True, null_counts=True)"
   ]
  },
  {
   "cell_type": "code",
   "execution_count": 18,
   "metadata": {},
   "outputs": [
    {
     "data": {
      "text/plain": [
       "0"
      ]
     },
     "execution_count": 18,
     "metadata": {},
     "output_type": "execute_result"
    }
   ],
   "source": [
    "# Checking if duplicates exist\n",
    "master_df.duplicated().sum()"
   ]
  },
  {
   "cell_type": "code",
   "execution_count": 19,
   "metadata": {},
   "outputs": [
    {
     "data": {
      "text/html": [
       "<div>\n",
       "<style scoped>\n",
       "    .dataframe tbody tr th:only-of-type {\n",
       "        vertical-align: middle;\n",
       "    }\n",
       "\n",
       "    .dataframe tbody tr th {\n",
       "        vertical-align: top;\n",
       "    }\n",
       "\n",
       "    .dataframe thead th {\n",
       "        text-align: right;\n",
       "    }\n",
       "</style>\n",
       "<table border=\"1\" class=\"dataframe\">\n",
       "  <thead>\n",
       "    <tr style=\"text-align: right;\">\n",
       "      <th></th>\n",
       "      <th>duration_sec</th>\n",
       "      <th>start_station_id</th>\n",
       "      <th>start_station_latitude</th>\n",
       "      <th>start_station_longitude</th>\n",
       "      <th>end_station_id</th>\n",
       "      <th>end_station_latitude</th>\n",
       "      <th>end_station_longitude</th>\n",
       "      <th>bike_id</th>\n",
       "    </tr>\n",
       "  </thead>\n",
       "  <tbody>\n",
       "    <tr>\n",
       "      <th>count</th>\n",
       "      <td>1.863721e+06</td>\n",
       "      <td>1.851950e+06</td>\n",
       "      <td>1.863721e+06</td>\n",
       "      <td>1.863721e+06</td>\n",
       "      <td>1.851950e+06</td>\n",
       "      <td>1.863721e+06</td>\n",
       "      <td>1.863721e+06</td>\n",
       "      <td>1.863721e+06</td>\n",
       "    </tr>\n",
       "    <tr>\n",
       "      <th>mean</th>\n",
       "      <td>8.573026e+02</td>\n",
       "      <td>1.196744e+02</td>\n",
       "      <td>3.776678e+01</td>\n",
       "      <td>-1.223492e+02</td>\n",
       "      <td>1.181730e+02</td>\n",
       "      <td>3.776690e+01</td>\n",
       "      <td>-1.223487e+02</td>\n",
       "      <td>2.296851e+03</td>\n",
       "    </tr>\n",
       "    <tr>\n",
       "      <th>std</th>\n",
       "      <td>2.370379e+03</td>\n",
       "      <td>1.003976e+02</td>\n",
       "      <td>1.057689e-01</td>\n",
       "      <td>1.654634e-01</td>\n",
       "      <td>1.004403e+02</td>\n",
       "      <td>1.056483e-01</td>\n",
       "      <td>1.650597e-01</td>\n",
       "      <td>1.287733e+03</td>\n",
       "    </tr>\n",
       "    <tr>\n",
       "      <th>min</th>\n",
       "      <td>6.100000e+01</td>\n",
       "      <td>3.000000e+00</td>\n",
       "      <td>3.726331e+01</td>\n",
       "      <td>-1.224737e+02</td>\n",
       "      <td>3.000000e+00</td>\n",
       "      <td>3.726331e+01</td>\n",
       "      <td>-1.224737e+02</td>\n",
       "      <td>1.100000e+01</td>\n",
       "    </tr>\n",
       "    <tr>\n",
       "      <th>25%</th>\n",
       "      <td>3.500000e+02</td>\n",
       "      <td>3.300000e+01</td>\n",
       "      <td>3.777106e+01</td>\n",
       "      <td>-1.224114e+02</td>\n",
       "      <td>3.000000e+01</td>\n",
       "      <td>3.777106e+01</td>\n",
       "      <td>-1.224094e+02</td>\n",
       "      <td>1.225000e+03</td>\n",
       "    </tr>\n",
       "    <tr>\n",
       "      <th>50%</th>\n",
       "      <td>5.560000e+02</td>\n",
       "      <td>8.900000e+01</td>\n",
       "      <td>3.778107e+01</td>\n",
       "      <td>-1.223974e+02</td>\n",
       "      <td>8.800000e+01</td>\n",
       "      <td>3.778127e+01</td>\n",
       "      <td>-1.223971e+02</td>\n",
       "      <td>2.338000e+03</td>\n",
       "    </tr>\n",
       "    <tr>\n",
       "      <th>75%</th>\n",
       "      <td>8.720000e+02</td>\n",
       "      <td>1.860000e+02</td>\n",
       "      <td>3.779625e+01</td>\n",
       "      <td>-1.222865e+02</td>\n",
       "      <td>1.830000e+02</td>\n",
       "      <td>3.779728e+01</td>\n",
       "      <td>-1.222894e+02</td>\n",
       "      <td>3.333000e+03</td>\n",
       "    </tr>\n",
       "    <tr>\n",
       "      <th>max</th>\n",
       "      <td>8.636600e+04</td>\n",
       "      <td>3.810000e+02</td>\n",
       "      <td>4.551000e+01</td>\n",
       "      <td>-7.357000e+01</td>\n",
       "      <td>3.810000e+02</td>\n",
       "      <td>4.551000e+01</td>\n",
       "      <td>-7.357000e+01</td>\n",
       "      <td>6.234000e+03</td>\n",
       "    </tr>\n",
       "  </tbody>\n",
       "</table>\n",
       "</div>"
      ],
      "text/plain": [
       "       duration_sec  start_station_id  start_station_latitude  \\\n",
       "count  1.863721e+06      1.851950e+06            1.863721e+06   \n",
       "mean   8.573026e+02      1.196744e+02            3.776678e+01   \n",
       "std    2.370379e+03      1.003976e+02            1.057689e-01   \n",
       "min    6.100000e+01      3.000000e+00            3.726331e+01   \n",
       "25%    3.500000e+02      3.300000e+01            3.777106e+01   \n",
       "50%    5.560000e+02      8.900000e+01            3.778107e+01   \n",
       "75%    8.720000e+02      1.860000e+02            3.779625e+01   \n",
       "max    8.636600e+04      3.810000e+02            4.551000e+01   \n",
       "\n",
       "       start_station_longitude  end_station_id  end_station_latitude  \\\n",
       "count             1.863721e+06    1.851950e+06          1.863721e+06   \n",
       "mean             -1.223492e+02    1.181730e+02          3.776690e+01   \n",
       "std               1.654634e-01    1.004403e+02          1.056483e-01   \n",
       "min              -1.224737e+02    3.000000e+00          3.726331e+01   \n",
       "25%              -1.224114e+02    3.000000e+01          3.777106e+01   \n",
       "50%              -1.223974e+02    8.800000e+01          3.778127e+01   \n",
       "75%              -1.222865e+02    1.830000e+02          3.779728e+01   \n",
       "max              -7.357000e+01    3.810000e+02          4.551000e+01   \n",
       "\n",
       "       end_station_longitude       bike_id  \n",
       "count           1.863721e+06  1.863721e+06  \n",
       "mean           -1.223487e+02  2.296851e+03  \n",
       "std             1.650597e-01  1.287733e+03  \n",
       "min            -1.224737e+02  1.100000e+01  \n",
       "25%            -1.224094e+02  1.225000e+03  \n",
       "50%            -1.223971e+02  2.338000e+03  \n",
       "75%            -1.222894e+02  3.333000e+03  \n",
       "max            -7.357000e+01  6.234000e+03  "
      ]
     },
     "execution_count": 19,
     "metadata": {},
     "output_type": "execute_result"
    }
   ],
   "source": [
    "# View descriptive statistics of the master dataframe\n",
    "master_df.describe()"
   ]
  },
  {
   "cell_type": "markdown",
   "metadata": {},
   "source": [
    "### Quality Issues\n",
    "- `start_time` and `end_time` not in datetime format\n",
    "- `bike_id`, `start_station_id` and `end_station_id` not in an object type\n",
    "- `user type` and `gender and bike_share_for_all_trip` not set as a categorical type variable\n",
    "-  Enhancement of the dataset with more details about the timestamps like month, day, hour, weekday"
   ]
  },
  {
   "cell_type": "markdown",
   "metadata": {},
   "source": [
    "### Tidiness Issues\n",
    "- There doesn't seem to be any tidiness issues as each variable forms a column and contains values, each observation forms a row, and each type of observational unit forms a table."
   ]
  },
  {
   "cell_type": "markdown",
   "metadata": {},
   "source": [
    "<a id='PartIII'></a>"
   ]
  },
  {
   "cell_type": "markdown",
   "metadata": {},
   "source": [
    "## Part III - Cleaning Data"
   ]
  },
  {
   "cell_type": "code",
   "execution_count": 20,
   "metadata": {},
   "outputs": [],
   "source": [
    "# Create a copy of the original Master DataFrame\n",
    "df_clean = master_df.copy()"
   ]
  },
  {
   "cell_type": "markdown",
   "metadata": {},
   "source": [
    "___\n",
    "### Define\n",
    "Set appropriate data types for fields mentioned in the Quality issues."
   ]
  },
  {
   "cell_type": "markdown",
   "metadata": {},
   "source": [
    "### Code"
   ]
  },
  {
   "cell_type": "code",
   "execution_count": 21,
   "metadata": {},
   "outputs": [],
   "source": [
    "# set dates to timestamps\n",
    "df_clean.start_time = pd.to_datetime(df_clean.start_time)\n",
    "df_clean.end_time = pd.to_datetime(df_clean.end_time)"
   ]
  },
  {
   "cell_type": "code",
   "execution_count": 22,
   "metadata": {},
   "outputs": [],
   "source": [
    "# set user type, gender and bike_share_for_all_trip to category\n",
    "df_clean.user_type = df_clean.user_type.astype('category')\n",
    "df_clean.bike_share_for_all_trip = df_clean.bike_share_for_all_trip.astype('category')"
   ]
  },
  {
   "cell_type": "code",
   "execution_count": 23,
   "metadata": {},
   "outputs": [],
   "source": [
    "# set bike id, start_station_id, end_station_id to object\n",
    "df_clean.bike_id = df_clean.bike_id.astype(str)\n",
    "df_clean.start_station_id = df_clean.bike_id.astype(str)\n",
    "df_clean.end_station_id = df_clean.bike_id.astype(str)"
   ]
  },
  {
   "cell_type": "markdown",
   "metadata": {},
   "source": [
    "### Test"
   ]
  },
  {
   "cell_type": "code",
   "execution_count": 24,
   "metadata": {},
   "outputs": [
    {
     "name": "stdout",
     "output_type": "stream",
     "text": [
      "<class 'pandas.core.frame.DataFrame'>\n",
      "RangeIndex: 1863721 entries, 0 to 1863720\n",
      "Data columns (total 14 columns):\n",
      "duration_sec               1863721 non-null int64\n",
      "start_time                 1863721 non-null datetime64[ns]\n",
      "end_time                   1863721 non-null datetime64[ns]\n",
      "start_station_id           1863721 non-null object\n",
      "start_station_name         1851950 non-null object\n",
      "start_station_latitude     1863721 non-null float64\n",
      "start_station_longitude    1863721 non-null float64\n",
      "end_station_id             1863721 non-null object\n",
      "end_station_name           1851950 non-null object\n",
      "end_station_latitude       1863721 non-null float64\n",
      "end_station_longitude      1863721 non-null float64\n",
      "bike_id                    1863721 non-null object\n",
      "user_type                  1863721 non-null category\n",
      "bike_share_for_all_trip    1863721 non-null category\n",
      "dtypes: category(2), datetime64[ns](2), float64(4), int64(1), object(5)\n",
      "memory usage: 174.2+ MB\n"
     ]
    }
   ],
   "source": [
    "df_clean.info(verbose=True, null_counts=True)"
   ]
  },
  {
   "cell_type": "markdown",
   "metadata": {},
   "source": [
    "____\n",
    "### Define\n",
    "Enhancing the dataset with new date related fields like `month_name`, `month_number`, `weekday_name`, `start_time_date`, `start_time_hour`, `AM/PM`"
   ]
  },
  {
   "cell_type": "markdown",
   "metadata": {},
   "source": [
    "### Code"
   ]
  },
  {
   "cell_type": "code",
   "execution_count": 25,
   "metadata": {},
   "outputs": [],
   "source": [
    "# extract start time month name\n",
    "df_clean['start_time_month_name']=df_clean['start_time'].dt.strftime('%B')"
   ]
  },
  {
   "cell_type": "code",
   "execution_count": 26,
   "metadata": {},
   "outputs": [],
   "source": [
    "# extract start time month number\n",
    "df_clean['start_time_month']=df_clean['start_time'].dt.month.astype(int)"
   ]
  },
  {
   "cell_type": "code",
   "execution_count": 27,
   "metadata": {},
   "outputs": [],
   "source": [
    "# extract start time weekdays\n",
    "df_clean['start_time_weekday']=df_clean['start_time'].dt.strftime('%a')"
   ]
  },
  {
   "cell_type": "code",
   "execution_count": 28,
   "metadata": {},
   "outputs": [],
   "source": [
    "# extract start time date\n",
    "df_clean['start_time_date']=df_clean['start_time'].dt.day.astype(int)"
   ]
  },
  {
   "cell_type": "code",
   "execution_count": 29,
   "metadata": {},
   "outputs": [],
   "source": [
    "# extract start time hour\n",
    "df_clean['start_time_hour']=df_clean['start_time'].dt.hour"
   ]
  },
  {
   "cell_type": "code",
   "execution_count": 30,
   "metadata": {},
   "outputs": [],
   "source": [
    "# extract AM/PM\n",
    "df_clean['AM/PM']=df_clean['start_time'].dt.strftime('%p')"
   ]
  },
  {
   "cell_type": "code",
   "execution_count": 31,
   "metadata": {},
   "outputs": [],
   "source": [
    "# Converting the AM/PM column to category type\n",
    "df_clean['AM/PM'] = df_clean['AM/PM'].astype('category')"
   ]
  },
  {
   "cell_type": "markdown",
   "metadata": {},
   "source": [
    "### Test"
   ]
  },
  {
   "cell_type": "code",
   "execution_count": 32,
   "metadata": {},
   "outputs": [
    {
     "data": {
      "text/html": [
       "<div>\n",
       "<style scoped>\n",
       "    .dataframe tbody tr th:only-of-type {\n",
       "        vertical-align: middle;\n",
       "    }\n",
       "\n",
       "    .dataframe tbody tr th {\n",
       "        vertical-align: top;\n",
       "    }\n",
       "\n",
       "    .dataframe thead th {\n",
       "        text-align: right;\n",
       "    }\n",
       "</style>\n",
       "<table border=\"1\" class=\"dataframe\">\n",
       "  <thead>\n",
       "    <tr style=\"text-align: right;\">\n",
       "      <th></th>\n",
       "      <th>duration_sec</th>\n",
       "      <th>start_time</th>\n",
       "      <th>end_time</th>\n",
       "      <th>start_station_id</th>\n",
       "      <th>start_station_name</th>\n",
       "      <th>start_station_latitude</th>\n",
       "      <th>start_station_longitude</th>\n",
       "      <th>end_station_id</th>\n",
       "      <th>end_station_name</th>\n",
       "      <th>end_station_latitude</th>\n",
       "      <th>end_station_longitude</th>\n",
       "      <th>bike_id</th>\n",
       "      <th>user_type</th>\n",
       "      <th>bike_share_for_all_trip</th>\n",
       "      <th>start_time_month_name</th>\n",
       "      <th>start_time_month</th>\n",
       "      <th>start_time_weekday</th>\n",
       "      <th>start_time_date</th>\n",
       "      <th>start_time_hour</th>\n",
       "      <th>AM/PM</th>\n",
       "    </tr>\n",
       "  </thead>\n",
       "  <tbody>\n",
       "    <tr>\n",
       "      <th>0</th>\n",
       "      <td>75284</td>\n",
       "      <td>2018-01-31 22:52:35.239</td>\n",
       "      <td>2018-02-01 19:47:19.824</td>\n",
       "      <td>2765</td>\n",
       "      <td>Mission Dolores Park</td>\n",
       "      <td>37.761420</td>\n",
       "      <td>-122.426435</td>\n",
       "      <td>2765</td>\n",
       "      <td>Webster St at O'Farrell St</td>\n",
       "      <td>37.783521</td>\n",
       "      <td>-122.431158</td>\n",
       "      <td>2765</td>\n",
       "      <td>Subscriber</td>\n",
       "      <td>No</td>\n",
       "      <td>January</td>\n",
       "      <td>1</td>\n",
       "      <td>Wed</td>\n",
       "      <td>31</td>\n",
       "      <td>22</td>\n",
       "      <td>PM</td>\n",
       "    </tr>\n",
       "    <tr>\n",
       "      <th>1</th>\n",
       "      <td>85422</td>\n",
       "      <td>2018-01-31 16:13:34.351</td>\n",
       "      <td>2018-02-01 15:57:17.310</td>\n",
       "      <td>2815</td>\n",
       "      <td>San Francisco Ferry Building (Harry Bridges Pl...</td>\n",
       "      <td>37.795392</td>\n",
       "      <td>-122.394203</td>\n",
       "      <td>2815</td>\n",
       "      <td>San Francisco Ferry Building (Harry Bridges Pl...</td>\n",
       "      <td>37.795392</td>\n",
       "      <td>-122.394203</td>\n",
       "      <td>2815</td>\n",
       "      <td>Customer</td>\n",
       "      <td>No</td>\n",
       "      <td>January</td>\n",
       "      <td>1</td>\n",
       "      <td>Wed</td>\n",
       "      <td>31</td>\n",
       "      <td>16</td>\n",
       "      <td>PM</td>\n",
       "    </tr>\n",
       "    <tr>\n",
       "      <th>2</th>\n",
       "      <td>71576</td>\n",
       "      <td>2018-01-31 14:23:55.889</td>\n",
       "      <td>2018-02-01 10:16:52.116</td>\n",
       "      <td>3039</td>\n",
       "      <td>Jackson St at 5th St</td>\n",
       "      <td>37.348759</td>\n",
       "      <td>-121.894798</td>\n",
       "      <td>3039</td>\n",
       "      <td>5th St at Virginia St</td>\n",
       "      <td>37.325998</td>\n",
       "      <td>-121.877120</td>\n",
       "      <td>3039</td>\n",
       "      <td>Customer</td>\n",
       "      <td>No</td>\n",
       "      <td>January</td>\n",
       "      <td>1</td>\n",
       "      <td>Wed</td>\n",
       "      <td>31</td>\n",
       "      <td>14</td>\n",
       "      <td>PM</td>\n",
       "    </tr>\n",
       "    <tr>\n",
       "      <th>3</th>\n",
       "      <td>61076</td>\n",
       "      <td>2018-01-31 14:53:23.562</td>\n",
       "      <td>2018-02-01 07:51:20.500</td>\n",
       "      <td>321</td>\n",
       "      <td>Market St at Franklin St</td>\n",
       "      <td>37.773793</td>\n",
       "      <td>-122.421239</td>\n",
       "      <td>321</td>\n",
       "      <td>4th St at Harrison St</td>\n",
       "      <td>37.780955</td>\n",
       "      <td>-122.399749</td>\n",
       "      <td>321</td>\n",
       "      <td>Customer</td>\n",
       "      <td>No</td>\n",
       "      <td>January</td>\n",
       "      <td>1</td>\n",
       "      <td>Wed</td>\n",
       "      <td>31</td>\n",
       "      <td>14</td>\n",
       "      <td>PM</td>\n",
       "    </tr>\n",
       "    <tr>\n",
       "      <th>4</th>\n",
       "      <td>39966</td>\n",
       "      <td>2018-01-31 19:52:24.667</td>\n",
       "      <td>2018-02-01 06:58:31.053</td>\n",
       "      <td>617</td>\n",
       "      <td>Laguna St at Hayes St</td>\n",
       "      <td>37.776435</td>\n",
       "      <td>-122.426244</td>\n",
       "      <td>617</td>\n",
       "      <td>Post St at Kearny St</td>\n",
       "      <td>37.788975</td>\n",
       "      <td>-122.403452</td>\n",
       "      <td>617</td>\n",
       "      <td>Subscriber</td>\n",
       "      <td>No</td>\n",
       "      <td>January</td>\n",
       "      <td>1</td>\n",
       "      <td>Wed</td>\n",
       "      <td>31</td>\n",
       "      <td>19</td>\n",
       "      <td>PM</td>\n",
       "    </tr>\n",
       "  </tbody>\n",
       "</table>\n",
       "</div>"
      ],
      "text/plain": [
       "   duration_sec              start_time                end_time  \\\n",
       "0         75284 2018-01-31 22:52:35.239 2018-02-01 19:47:19.824   \n",
       "1         85422 2018-01-31 16:13:34.351 2018-02-01 15:57:17.310   \n",
       "2         71576 2018-01-31 14:23:55.889 2018-02-01 10:16:52.116   \n",
       "3         61076 2018-01-31 14:53:23.562 2018-02-01 07:51:20.500   \n",
       "4         39966 2018-01-31 19:52:24.667 2018-02-01 06:58:31.053   \n",
       "\n",
       "  start_station_id                                 start_station_name  \\\n",
       "0             2765                               Mission Dolores Park   \n",
       "1             2815  San Francisco Ferry Building (Harry Bridges Pl...   \n",
       "2             3039                               Jackson St at 5th St   \n",
       "3              321                           Market St at Franklin St   \n",
       "4              617                              Laguna St at Hayes St   \n",
       "\n",
       "   start_station_latitude  start_station_longitude end_station_id  \\\n",
       "0               37.761420              -122.426435           2765   \n",
       "1               37.795392              -122.394203           2815   \n",
       "2               37.348759              -121.894798           3039   \n",
       "3               37.773793              -122.421239            321   \n",
       "4               37.776435              -122.426244            617   \n",
       "\n",
       "                                    end_station_name  end_station_latitude  \\\n",
       "0                         Webster St at O'Farrell St             37.783521   \n",
       "1  San Francisco Ferry Building (Harry Bridges Pl...             37.795392   \n",
       "2                              5th St at Virginia St             37.325998   \n",
       "3                              4th St at Harrison St             37.780955   \n",
       "4                               Post St at Kearny St             37.788975   \n",
       "\n",
       "   end_station_longitude bike_id   user_type bike_share_for_all_trip  \\\n",
       "0            -122.431158    2765  Subscriber                      No   \n",
       "1            -122.394203    2815    Customer                      No   \n",
       "2            -121.877120    3039    Customer                      No   \n",
       "3            -122.399749     321    Customer                      No   \n",
       "4            -122.403452     617  Subscriber                      No   \n",
       "\n",
       "  start_time_month_name  start_time_month start_time_weekday  start_time_date  \\\n",
       "0               January                 1                Wed               31   \n",
       "1               January                 1                Wed               31   \n",
       "2               January                 1                Wed               31   \n",
       "3               January                 1                Wed               31   \n",
       "4               January                 1                Wed               31   \n",
       "\n",
       "   start_time_hour AM/PM  \n",
       "0               22    PM  \n",
       "1               16    PM  \n",
       "2               14    PM  \n",
       "3               14    PM  \n",
       "4               19    PM  "
      ]
     },
     "execution_count": 32,
     "metadata": {},
     "output_type": "execute_result"
    }
   ],
   "source": [
    "df_clean.head()"
   ]
  },
  {
   "cell_type": "code",
   "execution_count": 33,
   "metadata": {},
   "outputs": [
    {
     "name": "stdout",
     "output_type": "stream",
     "text": [
      "<class 'pandas.core.frame.DataFrame'>\n",
      "RangeIndex: 1863721 entries, 0 to 1863720\n",
      "Data columns (total 20 columns):\n",
      "duration_sec               1863721 non-null int64\n",
      "start_time                 1863721 non-null datetime64[ns]\n",
      "end_time                   1863721 non-null datetime64[ns]\n",
      "start_station_id           1863721 non-null object\n",
      "start_station_name         1851950 non-null object\n",
      "start_station_latitude     1863721 non-null float64\n",
      "start_station_longitude    1863721 non-null float64\n",
      "end_station_id             1863721 non-null object\n",
      "end_station_name           1851950 non-null object\n",
      "end_station_latitude       1863721 non-null float64\n",
      "end_station_longitude      1863721 non-null float64\n",
      "bike_id                    1863721 non-null object\n",
      "user_type                  1863721 non-null category\n",
      "bike_share_for_all_trip    1863721 non-null category\n",
      "start_time_month_name      1863721 non-null object\n",
      "start_time_month           1863721 non-null int32\n",
      "start_time_weekday         1863721 non-null object\n",
      "start_time_date            1863721 non-null int32\n",
      "start_time_hour            1863721 non-null int64\n",
      "AM/PM                      1863721 non-null category\n",
      "dtypes: category(3), datetime64[ns](2), float64(4), int32(2), int64(2), object(7)\n",
      "memory usage: 232.8+ MB\n"
     ]
    }
   ],
   "source": [
    "df_clean.info(verbose=True, null_counts=True)"
   ]
  },
  {
   "cell_type": "code",
   "execution_count": 34,
   "metadata": {},
   "outputs": [],
   "source": [
    "# save cleaned data \n",
    "#df_clean.to_csv('clean_master_file.csv', index=False)"
   ]
  },
  {
   "cell_type": "markdown",
   "metadata": {},
   "source": [
    "______\n",
    "### What is the structure of your dataset?\n",
    ">There were approx. 1,860,000 bike rides that happen in 2018 using Baywheels. \n",
    ">\n",
    ">The dataset contained features about:\n",
    ">- **trip duration**: start/end time, how long the trip took in seconds\n",
    ">- **stations**: start/end station, name, geolocation (latitude/longitude)\n",
    ">- **anonymized customer information**: user type whether customer or subscriber\n",
    ">- **rented bikes**: bike ids\n",
    ">\n",
    ">The dataset was further enhanced with features that were found neccessary to perform interesting analysis:\n",
    ">- **trip duration**: month, day, hour of the day, weekdate and AM/PM details"
   ]
  },
  {
   "cell_type": "markdown",
   "metadata": {},
   "source": [
    "![alt text](https://s3.amazonaws.com/bklyner/bklyner/wp-content/uploads/2019/05/Citi-Bike-in-Lyft-app-screenshots.png \"Application Screenshot\")\n"
   ]
  },
  {
   "cell_type": "markdown",
   "metadata": {},
   "source": [
    "### What is/are the main feature(s) of interest in your dataset?\n",
    ">I'm most interested in figuring out and understanding the users' behaviors and personal details like;\n",
    ">- Average riding duration\n",
    ">- Average riding distance\n",
    ">- Weekly day distribution\n",
    ">- Trip duration distribution\n",
    ">- Distribution of stations on the map\n",
    "> - Service utilization for the users enrolled in Bike share for all program\n",
    ">- Usage by User type, and many more\n",
    ">\n",
    "> Let us explore the dataset more via visualizations in Univariate, Bivariate and Multivariate comparisons and get deeper insights from it."
   ]
  },
  {
   "cell_type": "markdown",
   "metadata": {},
   "source": [
    "### What features in the dataset do you think will help support your investigation into your feature(s) of interest?\n",
    "> - Feature such as customer type could help us gain insight into how different rides are spread across different customer types \n",
    "> - Similarly variables like hour of the day, AM/PM could assist us in determining which part of the time corresponds with most traffic\n",
    "> - Bike_share_for_all variable will provide details to the usage of the service by those enrolled in this service\n",
    "> - Latitude and Longitude can be used to analyze the station locations and mean count of rides can be used to show the strength of these stations."
   ]
  },
  {
   "cell_type": "markdown",
   "metadata": {},
   "source": [
    "<a id='PartIV'></a>"
   ]
  },
  {
   "cell_type": "markdown",
   "metadata": {},
   "source": [
    "## Part IV - Univariate Exploration"
   ]
  },
  {
   "cell_type": "code",
   "execution_count": 35,
   "metadata": {},
   "outputs": [],
   "source": [
    "# Firstly let us set the order of some of our variables.\n",
    "month_order = ['January', 'February', 'March', 'April', 'May', 'June', 'July', 'August', 'September', 'October', 'November', 'December']\n",
    "ordered_month = pd.api.types.CategoricalDtype(ordered = True, categories = month_order)\n",
    "df_clean['start_time_month_name'] = df_clean['start_time_month_name'].astype(ordered_month)\n",
    "\n",
    "weekday_order = ['Mon', 'Tue', 'Wed', 'Thu', 'Fri', 'Sat', 'Sun']\n",
    "ordered_weekday = pd.api.types.CategoricalDtype(ordered = True, categories = weekday_order)\n",
    "df_clean['start_time_weekday'] = df_clean['start_time_weekday'].astype(ordered_weekday)\n",
    "\n",
    "hour_order = [0,1,2,3,4,5,6,7,8,9,10,11,12,13,14,15,16,17,18,19,20,21,22,23]\n",
    "ordered_hour = pd.api.types.CategoricalDtype(ordered = True, categories = hour_order)\n",
    "df_clean['start_time_hour'] = df_clean['start_time_hour'].astype(ordered_hour)"
   ]
  },
  {
   "cell_type": "code",
   "execution_count": 36,
   "metadata": {},
   "outputs": [
    {
     "name": "stdout",
     "output_type": "stream",
     "text": [
      "<class 'pandas.core.frame.DataFrame'>\n",
      "RangeIndex: 1863721 entries, 0 to 1863720\n",
      "Data columns (total 20 columns):\n",
      "duration_sec               int64\n",
      "start_time                 datetime64[ns]\n",
      "end_time                   datetime64[ns]\n",
      "start_station_id           object\n",
      "start_station_name         object\n",
      "start_station_latitude     float64\n",
      "start_station_longitude    float64\n",
      "end_station_id             object\n",
      "end_station_name           object\n",
      "end_station_latitude       float64\n",
      "end_station_longitude      float64\n",
      "bike_id                    object\n",
      "user_type                  category\n",
      "bike_share_for_all_trip    category\n",
      "start_time_month_name      category\n",
      "start_time_month           int32\n",
      "start_time_weekday         category\n",
      "start_time_date            int32\n",
      "start_time_hour            category\n",
      "AM/PM                      category\n",
      "dtypes: category(6), datetime64[ns](2), float64(4), int32(2), int64(1), object(5)\n",
      "memory usage: 195.5+ MB\n"
     ]
    }
   ],
   "source": [
    "df_clean.info()"
   ]
  },
  {
   "cell_type": "markdown",
   "metadata": {},
   "source": [
    "### Question 1. What is the monthly usage distribution of rides look like? Does Season affect the ride counts?"
   ]
  },
  {
   "cell_type": "code",
   "execution_count": 37,
   "metadata": {},
   "outputs": [],
   "source": [
    "type_counts = df_clean.start_time_month_name.value_counts()\n",
    "type_order = type_counts.index"
   ]
  },
  {
   "cell_type": "code",
   "execution_count": 38,
   "metadata": {},
   "outputs": [
    {
     "data": {
      "image/png": "[encoded data removed]",
      "text/plain": [
       "<Figure size 1296x432 with 1 Axes>"
      ]
     },
     "metadata": {
      "needs_background": "light"
     },
     "output_type": "display_data"
    }
   ],
   "source": [
    "plt.figure(figsize=(18,6))\n",
    "base_color = sb.color_palette()[0]\n",
    "sb.countplot(data = df_clean, y = 'start_time_month_name', color = base_color)\n",
    "for i in range(type_counts.shape[0]):\n",
    "    count = type_counts[i]\n",
    "    pct_string = '{:0.2f}%'.format(100*count/(df_clean.shape[0]))\n",
    "    plt.text(count+1, i, pct_string, va='center', fontsize=14)\n",
    "plt.xticks(fontsize=16)\n",
    "plt.yticks(fontsize=16)\n",
    "plt.xlabel('Count [rides]', labelpad=16, fontsize=18)\n",
    "plt.ylabel('Month in 2018', labelpad=16, fontsize=18)\n",
    "plt.title('Monthly usage distribution of all rides for FY2018', fontsize=18, y=1.015);"
   ]
  },
  {
   "cell_type": "markdown",
   "metadata": {},
   "source": [
    "**Inference :**\n",
    ">It can be observed that the count of the number of rides is comparitively high from the month of May to October acccounting for about 9 to 10 percent of the total count, each month. In comparison to these months the counts for the cold months accounts for about approximately 5 to 7 percent of the total count, each month."
   ]
  },
  {
   "cell_type": "markdown",
   "metadata": {},
   "source": [
    "### Question 2. What is the weekly usage distribution of rides look like? Does Season affect the ride counts?"
   ]
  },
  {
   "cell_type": "code",
   "execution_count": 39,
   "metadata": {},
   "outputs": [
    {
     "data": {
      "image/png": "[encoded data removed]",
      "text/plain": [
       "<Figure size 1296x432 with 2 Axes>"
      ]
     },
     "metadata": {
      "needs_background": "light"
     },
     "output_type": "display_data"
    }
   ],
   "source": [
    "plt.figure(figsize = [18, 6]) # larger figure size for subplots\n",
    "\n",
    "# bar chart on left\n",
    "plt.subplot(1, 2, 1) # 1 row, 2 cols, subplot 1\n",
    "type_counts = df_clean.start_time_weekday.value_counts()\n",
    "type_order = type_counts.index\n",
    "base_color = sb.color_palette()[0]\n",
    "sb.countplot(data = df_clean, y = 'start_time_weekday', color = base_color)\n",
    "for i in range(type_counts.shape[0]):\n",
    "    count = type_counts[i]\n",
    "    pct_string = '{:0.2f}%'.format(100*count/(df_clean.shape[0]))\n",
    "    plt.text(count+15, i, pct_string, va='center', fontsize=10)\n",
    "plt.xticks(fontsize=12)\n",
    "plt.yticks(fontsize=12)\n",
    "plt.xlabel('Count [rides]', labelpad=10, fontsize=14)\n",
    "plt.ylabel('Weekday', labelpad=10, fontsize=14)\n",
    "plt.title('Weekday usage distribution of all rides for FY2018', fontsize=14, y=1.015);\n",
    "\n",
    "# donut chart on right\n",
    "plt.subplot(1, 2, 2) # 1 row, 2 cols, subplot 2\n",
    "sorted_counts = df_clean.groupby('start_time_weekday').size()\n",
    "plt.pie(sorted_counts, labels = sorted_counts.index, startangle = 90,\n",
    "        counterclock = False, wedgeprops = {'width' : 0.27}, autopct='%1.1f%%');\n",
    "plt.axis('square')\n",
    "plt.title(\"Donut Chart representing the weekday distribution\", fontsize=14, y=1.015);"
   ]
  },
  {
   "cell_type": "markdown",
   "metadata": {},
   "source": [
    "**Inference :**\n",
    ">It can be observed that the count of the number of rides is comparitively high during the weekdays than the weekends."
   ]
  },
  {
   "cell_type": "markdown",
   "metadata": {},
   "source": [
    "### Question 3. What is the hourly usage distribution of rides look like?"
   ]
  },
  {
   "cell_type": "code",
   "execution_count": 40,
   "metadata": {},
   "outputs": [
    {
     "data": {
      "text/html": [
       "<div>\n",
       "<style scoped>\n",
       "    .dataframe tbody tr th:only-of-type {\n",
       "        vertical-align: middle;\n",
       "    }\n",
       "\n",
       "    .dataframe tbody tr th {\n",
       "        vertical-align: top;\n",
       "    }\n",
       "\n",
       "    .dataframe thead th {\n",
       "        text-align: right;\n",
       "    }\n",
       "</style>\n",
       "<table border=\"1\" class=\"dataframe\">\n",
       "  <thead>\n",
       "    <tr style=\"text-align: right;\">\n",
       "      <th></th>\n",
       "      <th>start_time_hour</th>\n",
       "      <th>bike_id</th>\n",
       "    </tr>\n",
       "  </thead>\n",
       "  <tbody>\n",
       "    <tr>\n",
       "      <th>0</th>\n",
       "      <td>0</td>\n",
       "      <td>10234</td>\n",
       "    </tr>\n",
       "    <tr>\n",
       "      <th>1</th>\n",
       "      <td>1</td>\n",
       "      <td>5884</td>\n",
       "    </tr>\n",
       "    <tr>\n",
       "      <th>2</th>\n",
       "      <td>2</td>\n",
       "      <td>3697</td>\n",
       "    </tr>\n",
       "    <tr>\n",
       "      <th>3</th>\n",
       "      <td>3</td>\n",
       "      <td>2120</td>\n",
       "    </tr>\n",
       "    <tr>\n",
       "      <th>4</th>\n",
       "      <td>4</td>\n",
       "      <td>2740</td>\n",
       "    </tr>\n",
       "  </tbody>\n",
       "</table>\n",
       "</div>"
      ],
      "text/plain": [
       "  start_time_hour  bike_id\n",
       "0               0    10234\n",
       "1               1     5884\n",
       "2               2     3697\n",
       "3               3     2120\n",
       "4               4     2740"
      ]
     },
     "execution_count": 40,
     "metadata": {},
     "output_type": "execute_result"
    }
   ],
   "source": [
    "trip_by_hour_df = df_clean.groupby('start_time_hour').agg({'bike_id':'count'}).reset_index()\n",
    "trip_by_hour_df.head()"
   ]
  },
  {
   "cell_type": "code",
   "execution_count": 41,
   "metadata": {},
   "outputs": [
    {
     "data": {
      "text/html": [
       "<div>\n",
       "<style scoped>\n",
       "    .dataframe tbody tr th:only-of-type {\n",
       "        vertical-align: middle;\n",
       "    }\n",
       "\n",
       "    .dataframe tbody tr th {\n",
       "        vertical-align: top;\n",
       "    }\n",
       "\n",
       "    .dataframe thead th {\n",
       "        text-align: right;\n",
       "    }\n",
       "</style>\n",
       "<table border=\"1\" class=\"dataframe\">\n",
       "  <thead>\n",
       "    <tr style=\"text-align: right;\">\n",
       "      <th></th>\n",
       "      <th>start_time_hour</th>\n",
       "      <th>bike_id</th>\n",
       "    </tr>\n",
       "  </thead>\n",
       "  <tbody>\n",
       "    <tr>\n",
       "      <th>0</th>\n",
       "      <td>0</td>\n",
       "      <td>0.549117</td>\n",
       "    </tr>\n",
       "    <tr>\n",
       "      <th>1</th>\n",
       "      <td>1</td>\n",
       "      <td>0.315712</td>\n",
       "    </tr>\n",
       "    <tr>\n",
       "      <th>2</th>\n",
       "      <td>2</td>\n",
       "      <td>0.198367</td>\n",
       "    </tr>\n",
       "    <tr>\n",
       "      <th>3</th>\n",
       "      <td>3</td>\n",
       "      <td>0.113751</td>\n",
       "    </tr>\n",
       "    <tr>\n",
       "      <th>4</th>\n",
       "      <td>4</td>\n",
       "      <td>0.147018</td>\n",
       "    </tr>\n",
       "  </tbody>\n",
       "</table>\n",
       "</div>"
      ],
      "text/plain": [
       "  start_time_hour   bike_id\n",
       "0               0  0.549117\n",
       "1               1  0.315712\n",
       "2               2  0.198367\n",
       "3               3  0.113751\n",
       "4               4  0.147018"
      ]
     },
     "execution_count": 41,
     "metadata": {},
     "output_type": "execute_result"
    }
   ],
   "source": [
    "trip_by_hour_df['bike_id'] = (trip_by_hour_df['bike_id']/trip_by_hour_df['bike_id'].sum())*100\n",
    "trip_by_hour_df.head()"
   ]
  },
  {
   "cell_type": "code",
   "execution_count": 42,
   "metadata": {},
   "outputs": [
    {
     "data": {
      "image/png": "[encoded data removed]",
      "text/plain": [
       "<Figure size 1296x432 with 2 Axes>"
      ]
     },
     "metadata": {
      "needs_background": "light"
     },
     "output_type": "display_data"
    }
   ],
   "source": [
    "plt.figure(figsize=(18,6))\n",
    "plt.subplot(1, 2, 1) # 1 row, 2 cols, subplot 1\n",
    "sb.pointplot(x='start_time_hour', y='bike_id', scale=.7, color='black', data=trip_by_hour_df)\n",
    "plt.xticks(fontsize=12)\n",
    "plt.yticks(fontsize=12)\n",
    "plt.xlabel('Hour of the day', labelpad=10, fontsize=14)\n",
    "plt.ylabel('percentage(%) [rides]', labelpad=10, fontsize=14)\n",
    "plt.title('Hourly usage distribution of all rides for FY2018', fontsize=14, y=1.015)\n",
    "\n",
    "plt.subplot(1, 2, 2) # 1 row, 2 cols, subplot 2;\n",
    "sorted_counts = df_clean['AM/PM'].value_counts()\n",
    "plt.pie(sorted_counts, labels = sorted_counts.index, startangle = 90, autopct='%1.1f%%');\n",
    "plt.axis('square')\n",
    "plt.title(\"Pie Chart representing the AM vs PM distribution of rides\", fontsize=14, y=1.015);"
   ]
  },
  {
   "cell_type": "markdown",
   "metadata": {},
   "source": [
    "**Inference :**\n",
    ">The hourly distribution is bimodal, the system is used mainly around 8-9am and 5-6pm when people get to and get back from work. >It can also be seen that there is a small bump in the graph at around 12-14pm which is the common lunch time for all.\n",
    ">\n",
    "> It can also be observed from the bar chart that the proportion of riders are more during PM rather than AM. It would be interesting to know this distribution around the weekends as people tend to enjoy ,relax and stay awake till late midnight during the weekends. "
   ]
  },
  {
   "cell_type": "markdown",
   "metadata": {},
   "source": [
    "### Question 4. Plot a distribution for the duration of ride to show the most common range of duration."
   ]
  },
  {
   "cell_type": "code",
   "execution_count": 43,
   "metadata": {},
   "outputs": [
    {
     "data": {
      "image/png": "[encoded data removed]",
      "text/plain": [
       "<Figure size 1296x720 with 2 Axes>"
      ]
     },
     "metadata": {
      "needs_background": "light"
     },
     "output_type": "display_data"
    }
   ],
   "source": [
    "# code for the (histogram) duration (sec) distribution per user type\n",
    "plt.figure(figsize=(18,10))\n",
    "\n",
    "plt.subplot(2, 1, 1)\n",
    "base_color = sb.color_palette()[0]\n",
    "bin_edges = np.arange(0,df_clean['duration_sec'].max()+60,60)\n",
    "plt.hist(data = df_clean, x = 'duration_sec', bins = bin_edges)\n",
    "plt.xticks(fontsize=12)\n",
    "plt.yticks(fontsize=12)\n",
    "plt.xlabel('Duration(sec)', labelpad=10, fontsize=12)\n",
    "plt.ylabel('Count [rides]', labelpad=10, fontsize=12)\n",
    "plt.title('Histogram representing Trip duration in seconds', fontsize=14, y=1.015)\n",
    "plt.xlim(0,3600); # setting max at one hour\n",
    "\n",
    "# Plotting the log normal distribution as the distribution above was heavily skewed to the right\n",
    "plt.subplot(2, 1, 2)\n",
    "base_color = sb.color_palette()[0]\n",
    "log_data = np.log10(df_clean['duration_sec'].max())\n",
    "log_bin_edges = 10 ** np.arange(0, log_data+0.1, 0.1)\n",
    "plt.hist(data = df_clean, x = 'duration_sec', bins = log_bin_edges)\n",
    "x_ticks = [100,300,1000,3000,10000,30000]\n",
    "plt.xscale('log')\n",
    "plt.xticks(x_ticks,x_ticks,fontsize=12)\n",
    "plt.yticks(fontsize=12)\n",
    "plt.xlabel('Duration(sec)', labelpad=10, fontsize=12)\n",
    "plt.ylabel('Count [rides]', labelpad=10, fontsize=12)\n",
    "plt.title('Log-normal distribution of Trip duration in seconds', fontsize=14, y=1.015)\n",
    "\n",
    "plt.subplots_adjust(left=None, bottom=None, right=None, top=None, wspace=None, hspace=0.5)\n",
    "plt.show();"
   ]
  },
  {
   "cell_type": "markdown",
   "metadata": {},
   "source": [
    "**Inference :**\n",
    ">Looking at the histogram and the log-normal distribution, we can see that most trip durations are between 6 to 15 min. Additionally more than 90 percent of the rides are less than 30 minutes/1800 seconds of duration. This can be explained by two facts:\n",
    ">\n",
    ">- The way the system works: single trips and 24h or 72h access pass are free of additional charge for trips up to 30 min, otherwise you pay extra $3 for additional 15 min. Only the monthly pass offers free of charge 45 min rides.\n",
    ">\n",
    ">- The way the system is used: as is looks like people use the system for commuting, they trips are usually short in time probably due to the closeness of their homes to workplace/school."
   ]
  },
  {
   "cell_type": "markdown",
   "metadata": {},
   "source": [
    "### Question 5. How does the different User Type differ in their number of trips per year?"
   ]
  },
  {
   "cell_type": "code",
   "execution_count": 44,
   "metadata": {},
   "outputs": [
    {
     "data": {
      "image/png": "[encoded data removed]",
      "text/plain": [
       "<Figure size 1296x432 with 2 Axes>"
      ]
     },
     "metadata": {
      "needs_background": "light"
     },
     "output_type": "display_data"
    }
   ],
   "source": [
    "plt.figure(figsize=(18,6))\n",
    "plt.subplot(1, 2, 1) # 1 row, 2 cols, subplot 1\n",
    "sb.countplot(data = df_clean, x = 'user_type')\n",
    "plt.xticks(fontsize=12)\n",
    "plt.yticks(fontsize=12)\n",
    "plt.ylabel('Count [rides]', labelpad=10, fontsize=14)\n",
    "plt.xlabel('User Type', labelpad=10, fontsize=14)\n",
    "plt.title('User type split for Baywheels - 2018', fontsize=14, y=1.015)\n",
    "\n",
    "plt.subplot(1, 2, 2) # 1 row, 2 cols, subplot 2;\n",
    "explode = (0, 0.1)\n",
    "sorted_counts = df_clean['user_type'].value_counts()\n",
    "plt.pie(sorted_counts, explode=explode, labels = sorted_counts.index,colors = ['darkorange', 'steelblue'], \n",
    "        autopct='%1.1f%%',shadow=True, counterclock = False, startangle = 90);\n",
    "plt.axis('square')\n",
    "plt.title(\"Pie Chart representing the distribution of User Type for all rides in 2018\", fontsize=14, y=1.015);"
   ]
  },
  {
   "cell_type": "markdown",
   "metadata": {},
   "source": [
    "**Inference :**\n",
    ">The bike sharing system is mainly used by subscribers (85%) than ocassional riders (15%)."
   ]
  },
  {
   "cell_type": "markdown",
   "metadata": {},
   "source": [
    "### Discuss the distribution(s) of your variable(s) of interest. Were there any unusual points? Did you need to perform any transformations?"
   ]
  },
  {
   "cell_type": "markdown",
   "metadata": {},
   "source": [
    ">I tried checking each variable of interest one by one. All these variables are important in order to understand the dataset and communicating the datafindings at the end of this project.\n",
    "We can talk about some of the variables. For example:\n",
    "- There were 1.85 million rides in the Financial Year 2018.\n",
    "- People use this service on weekdays more than weekends.\n",
    "- 8am and 5pm are the peak hours for this service. Also, people use this service when they are in lunch time as well.\n",
    "- Services were less during the winter/cold months.\n",
    "- Most trip durations were between 6 to 15 min.\n",
    ">\n",
    ">Additionally while observing the Histogram representing Trip duration in seconds, there were some unusual points having duration greater than 24 hour. However for our analysis focus was kept on the durations less than 3600 sec as approx. more than 90 percent of the rides were in this duration"
   ]
  },
  {
   "cell_type": "markdown",
   "metadata": {},
   "source": [
    "### Of the features you investigated, were there any unusual distributions? Did you perform any operations on the data to tidy, adjust, or change the form of the data? If so, why did you do this?"
   ]
  },
  {
   "cell_type": "markdown",
   "metadata": {},
   "source": [
    ">As described that while observing the Histogram representing Trip duration in seconds, it was observed that there were some unusual points having duration greater than 24 hour which made the histogram heavily skewed to the right. Hence, log transformation was done to analyze the data better.\n",
    ">\n",
    ">Operations were performed to enhance the dataset with features that were found neccessary to perform interesting analysis like the information regarding the trip durations: month, day, hour of the day, weekdate, AM/PM details,and percentage of rides per hour."
   ]
  },
  {
   "cell_type": "markdown",
   "metadata": {},
   "source": [
    "<a id='PartV'></a>"
   ]
  },
  {
   "cell_type": "markdown",
   "metadata": {},
   "source": [
    "## Part V - Bivariate Exploration"
   ]
  },
  {
   "cell_type": "markdown",
   "metadata": {},
   "source": [
    "### Question 1. How does the different User Type differ in their number of trips per month?"
   ]
  },
  {
   "cell_type": "code",
   "execution_count": 45,
   "metadata": {},
   "outputs": [
    {
     "data": {
      "image/png": "[encoded data removed]",
      "text/plain": [
       "<Figure size 1224x720 with 1 Axes>"
      ]
     },
     "metadata": {
      "needs_background": "light"
     },
     "output_type": "display_data"
    }
   ],
   "source": [
    "plt.figure(figsize=(17,10))\n",
    "ax = sb.countplot(data = df_clean, x = 'start_time_month_name', hue = 'user_type')\n",
    "plt.xticks(fontsize=14)\n",
    "plt.yticks(fontsize=14)\n",
    "plt.ylabel('Count [rides]', labelpad=10, fontsize=16)\n",
    "plt.xlabel('Month-2018', labelpad=10, fontsize=16)\n",
    "plt.title('Number of trips per month by User Type', fontsize=18, y=1.015)\n",
    "ax.legend(loc = 1, ncol = 1, framealpha = 1, title = 'User Type', fontsize=13, title_fontsize=14);"
   ]
  },
  {
   "cell_type": "markdown",
   "metadata": {},
   "source": [
    "**Inference:**\n",
    ">Winter months are the worst for the bike sharing system for both groups what can be determined by the harsher weather.\n",
    ">\n",
    "> - For **Customers**, the bike renting is high in demand around summertime, reaching its peak in July. Customers are most probably occasional reiders or tourist coming to visit the Bay Area. \n",
    "> - For **Subscribers**, the highest demand is from May till October, reaching it's peak in October. Subscribers are most probably regular riders using bikes for a daily commute."
   ]
  },
  {
   "cell_type": "markdown",
   "metadata": {},
   "source": [
    "### Question 2. How does the different User Type differ in their number of trips per weekday?"
   ]
  },
  {
   "cell_type": "code",
   "execution_count": 46,
   "metadata": {},
   "outputs": [
    {
     "data": {
      "text/html": [
       "<div>\n",
       "<style scoped>\n",
       "    .dataframe tbody tr th:only-of-type {\n",
       "        vertical-align: middle;\n",
       "    }\n",
       "\n",
       "    .dataframe tbody tr th {\n",
       "        vertical-align: top;\n",
       "    }\n",
       "\n",
       "    .dataframe thead th {\n",
       "        text-align: right;\n",
       "    }\n",
       "</style>\n",
       "<table border=\"1\" class=\"dataframe\">\n",
       "  <thead>\n",
       "    <tr style=\"text-align: right;\">\n",
       "      <th>user_type</th>\n",
       "      <th>Customer</th>\n",
       "      <th>Subscriber</th>\n",
       "    </tr>\n",
       "    <tr>\n",
       "      <th>start_time_weekday</th>\n",
       "      <th></th>\n",
       "      <th></th>\n",
       "    </tr>\n",
       "  </thead>\n",
       "  <tbody>\n",
       "    <tr>\n",
       "      <th>Mon</th>\n",
       "      <td>33759</td>\n",
       "      <td>260814</td>\n",
       "    </tr>\n",
       "    <tr>\n",
       "      <th>Tue</th>\n",
       "      <td>34147</td>\n",
       "      <td>285185</td>\n",
       "    </tr>\n",
       "    <tr>\n",
       "      <th>Wed</th>\n",
       "      <td>35334</td>\n",
       "      <td>281040</td>\n",
       "    </tr>\n",
       "    <tr>\n",
       "      <th>Thu</th>\n",
       "      <td>37515</td>\n",
       "      <td>276609</td>\n",
       "    </tr>\n",
       "    <tr>\n",
       "      <th>Fri</th>\n",
       "      <td>41469</td>\n",
       "      <td>248921</td>\n",
       "    </tr>\n",
       "    <tr>\n",
       "      <th>Sat</th>\n",
       "      <td>52869</td>\n",
       "      <td>122745</td>\n",
       "    </tr>\n",
       "    <tr>\n",
       "      <th>Sun</th>\n",
       "      <td>45074</td>\n",
       "      <td>108240</td>\n",
       "    </tr>\n",
       "  </tbody>\n",
       "</table>\n",
       "</div>"
      ],
      "text/plain": [
       "user_type           Customer  Subscriber\n",
       "start_time_weekday                      \n",
       "Mon                    33759      260814\n",
       "Tue                    34147      285185\n",
       "Wed                    35334      281040\n",
       "Thu                    37515      276609\n",
       "Fri                    41469      248921\n",
       "Sat                    52869      122745\n",
       "Sun                    45074      108240"
      ]
     },
     "execution_count": 46,
     "metadata": {},
     "output_type": "execute_result"
    }
   ],
   "source": [
    "ht = df_clean.groupby(['user_type','start_time_weekday']).size()\n",
    "ht = ht.reset_index()\n",
    "ht = ht.pivot(index='start_time_weekday', columns='user_type', values=0)\n",
    "ht"
   ]
  },
  {
   "cell_type": "code",
   "execution_count": 47,
   "metadata": {},
   "outputs": [
    {
     "data": {
      "image/png": "[encoded data removed]",
      "text/plain": [
       "<Figure size 1296x576 with 2 Axes>"
      ]
     },
     "metadata": {
      "needs_background": "light"
     },
     "output_type": "display_data"
    }
   ],
   "source": [
    "plt.figure(figsize=(18,8))\n",
    "ax = sb.heatmap(ht, cmap = 'viridis_r', annot = True, fmt = 'd', linewidths=.5)\n",
    "#ax.get_ylim()\n",
    "ax.set_ylim(7.0,-0.5)\n",
    "plt.xticks(fontsize=14)\n",
    "plt.yticks(fontsize=14)\n",
    "plt.ylabel('Weekday - 2018', labelpad=10, fontsize=16)\n",
    "plt.xlabel('User Type', labelpad=10, fontsize=16)\n",
    "plt.title('Number of trips per Weekday by User Type', fontsize=18, y=1.015);"
   ]
  },
  {
   "cell_type": "markdown",
   "metadata": {},
   "source": [
    "**Inference:**\n",
    ">There is a different trend on which days customers and subscribers rent bikes. As mentioned above **customers** are most probably occasional riders and tourist who use the bike sharing system on holiday or weekend trips. On the other hand, **subscribers** are most probably daily work/school commuters who use the system within a week."
   ]
  },
  {
   "cell_type": "markdown",
   "metadata": {},
   "source": [
    "### Question 3. Plot the hourly usage of the bike share system per user type"
   ]
  },
  {
   "cell_type": "code",
   "execution_count": 48,
   "metadata": {},
   "outputs": [
    {
     "data": {
      "image/png": "[encoded data removed]",
      "text/plain": [
       "<Figure size 1080x576 with 2 Axes>"
      ]
     },
     "metadata": {
      "needs_background": "light"
     },
     "output_type": "display_data"
    }
   ],
   "source": [
    "g = sb.catplot(data=df_clean, x='start_time_hour', col=\"user_type\", kind='count', sharey = True,\n",
    "            color = base_color, height=4, aspect =1.5)\n",
    "g.set_axis_labels(\"Hour\", \"Count of Bike Trips\")\n",
    "g.set_titles(\"{col_name}\", fontsize=12)\n",
    "g.fig.suptitle('Hourly usage of the bike share system by User type', y=1, fontsize=20)\n",
    "g.fig.set_size_inches(15,8)\n",
    "sb.set(font_scale = 1.5);"
   ]
  },
  {
   "cell_type": "markdown",
   "metadata": {},
   "source": [
    "**Inference:**\n",
    ">There is also a different trend of when during the day bikes are rented most often. **Customers** use bikes mainly between 8 am - 7 pm, reaching the renting peak around 5pm. **Subscribers** on the other side use the system at around 8-9am and 5-6pm when they go and come back from work."
   ]
  },
  {
   "cell_type": "markdown",
   "metadata": {},
   "source": [
    "### Question 4. Plot a distribution for the duration of ride to show the most common range of duration."
   ]
  },
  {
   "cell_type": "code",
   "execution_count": 49,
   "metadata": {},
   "outputs": [
    {
     "data": {
      "image/png": "[encoded data removed]",
      "text/plain": [
       "<Figure size 1296x576 with 1 Axes>"
      ]
     },
     "metadata": {},
     "output_type": "display_data"
    }
   ],
   "source": [
    "plt.figure(figsize=(18,8))\n",
    "data = df_clean.query('duration_sec < 3600')\n",
    "base_color = sb.color_palette()[0]\n",
    "sb.violinplot(data = data, x = 'user_type', y = 'duration_sec', color = base_color,\n",
    "              inner = 'quartile')\n",
    "plt.xticks(fontsize=14)\n",
    "plt.yticks(fontsize=14)\n",
    "plt.ylabel('Duration [seconds]', labelpad=10, fontsize=16)\n",
    "plt.xlabel('User Type', labelpad=10, fontsize=16)\n",
    "plt.title('Distribution for the duration of ride by User Type', fontsize=18, y=1.015);"
   ]
  },
  {
   "cell_type": "markdown",
   "metadata": {},
   "source": [
    "**Inference:**\n",
    ">Looking at the violin plot and the inner quartiles, we can see that trip durations are _longer_ for **customers** (9 to 23 minutes) than for **subscribers** (7 to 13 minutes). This can probably be explained by the fact that subscribers are mainly commuters who take short trips to work/school rather than longer trips around the Bay Area."
   ]
  },
  {
   "cell_type": "markdown",
   "metadata": {},
   "source": [
    "### Question 5. Plot a distribution for the duration of ride vs Bike Share to show the most common range of duration."
   ]
  },
  {
   "cell_type": "code",
   "execution_count": 67,
   "metadata": {},
   "outputs": [
    {
     "data": {
      "image/png": "[encoded data removed]",
      "text/plain": [
       "<Figure size 1296x576 with 1 Axes>"
      ]
     },
     "metadata": {},
     "output_type": "display_data"
    }
   ],
   "source": [
    "plt.figure(figsize=(18,8))\n",
    "data = df_clean.query('duration_sec < 3600')\n",
    "base_color = sb.color_palette()[0]\n",
    "sb.boxplot(data = data, x = 'bike_share_for_all_trip', y = 'duration_sec', color = base_color)\n",
    "plt.xticks(fontsize=14)\n",
    "plt.yticks(fontsize=14)\n",
    "plt.ylabel('Duration [seconds]', labelpad=10, fontsize=16)\n",
    "plt.xlabel('Bike share', labelpad=10, fontsize=16)\n",
    "plt.title('Distribution for the duration of ride by Bike Share' , fontsize=18, y=1.015);"
   ]
  },
  {
   "cell_type": "markdown",
   "metadata": {},
   "source": [
    "**Inference:**\n",
    "> The average duration for the people enrolled in the Rideshare program is a little less than that of the ones that were not enrolled."
   ]
  },
  {
   "cell_type": "markdown",
   "metadata": {},
   "source": [
    "### Discuss the distribution(s) of your variable(s) of interest. Were there any unusual points? Did you need to perform any transformations?\n",
    ">Adding the user type to the analysis depicted different usage behaviours between customers and subscribers. As mentioned above customers are casual riders, most probably tourists who rent bikes mainly in summertime (the peak in July), more often during weekends than weekdays and they rent bikes more often within the day rather than around commute hours (8-9am and 5-6pm). Subscribers are daily commuters, who also use the system around summertime, May-October (with the peak in October). They rent bikes more often during weekdays than weekends and mainly around the time they go and go back from work or school (8-9am and 5-6pm)."
   ]
  },
  {
   "cell_type": "markdown",
   "metadata": {},
   "source": [
    "### Of the features you investigated, were there any unusual distributions? Did you perform any operations on the data to tidy, adjust, or change the form of the data? If so, why did you do this?\n",
    ">There is a difference in the trip duration between customers and subscribers. Customers trips are usually longer than for subscribers, most probably due to the fact they prefer bike rides around weekends in summertime, what encourages longer trips around the area. Subscribers on the other hand use the system mainly for commute purposes so they rather prefer quick rides to and from work/school."
   ]
  },
  {
   "cell_type": "markdown",
   "metadata": {},
   "source": [
    "<a id='PartVI'></a>"
   ]
  },
  {
   "cell_type": "markdown",
   "metadata": {},
   "source": [
    "## Part VI - Multivariate Exploration"
   ]
  },
  {
   "cell_type": "markdown",
   "metadata": {},
   "source": [
    "### Question 1. How does the ride trips differ by `user_type`, `start_time_weekday` and `AM/PM` variables?"
   ]
  },
  {
   "cell_type": "code",
   "execution_count": 77,
   "metadata": {},
   "outputs": [
    {
     "data": {
      "image/png": "[encoded data removed]",
      "text/plain": [
       "<Figure size 1080x576 with 2 Axes>"
      ]
     },
     "metadata": {},
     "output_type": "display_data"
    }
   ],
   "source": [
    "g = sb.catplot(data=df_clean, x='start_time_weekday', hue = \"AM/PM\", col = 'user_type' , kind='count', sharey = True, height=4, aspect =1.5)\n",
    "g.set_axis_labels(\"Weekday\", \"Count of Bike Trips\")\n",
    "g.set_titles(\"{col_name}\", fontsize=12)\n",
    "g.fig.suptitle('Weekly usage of the bike share system by User type and Day Time', y=1, fontsize=20)\n",
    "g.fig.set_size_inches(15,8)\n",
    "sb.set(font_scale = 1.5);"
   ]
  },
  {
   "cell_type": "markdown",
   "metadata": {},
   "source": [
    "**Inference:**\n",
    "> It can be observed that there appears to be a spike in the number of rides during the weekend for customers during 'PM' in contradiction to the subscribers, where the number of rides during weekend decreases during PM. This decrease can be accounted due to the fact that the population using Baywheels services for getting back from work are not using the services on weekends.\n",
    ">\n",
    ">Similarly the increase in the customer section during the weekend suggest that those are casual tourists who use the services on weekends to explore around themselves."
   ]
  },
  {
   "cell_type": "markdown",
   "metadata": {},
   "source": [
    "### Question 2. Plot a distribution for the Hourly Usage for all weekdays by `user_type` and `bike_share_for_all_trip` variables."
   ]
  },
  {
   "cell_type": "code",
   "execution_count": 83,
   "metadata": {},
   "outputs": [
    {
     "data": {
      "image/png": "[encoded data removed]",
      "text/plain": [
       "<Figure size 1296x864 with 4 Axes>"
      ]
     },
     "metadata": {},
     "output_type": "display_data"
    }
   ],
   "source": [
    "plt.figure(figsize=(18,12))\n",
    "plt.suptitle('Hourly usage during the weekday for customers and subscribers', fontsize=20)\n",
    "\n",
    "# heatmap for customers\n",
    "plt.subplot(1, 2, 1)\n",
    "df_customer = df_clean.query('user_type == \"Customer\"').groupby([\"start_time_hour\", \"start_time_weekday\"])[\"bike_id\"].size().reset_index()\n",
    "df_customer = df_customer.pivot(\"start_time_hour\", \"start_time_weekday\", \"bike_id\")\n",
    "sb.heatmap(df_customer, cmap=\"viridis_r\")\n",
    "\n",
    "plt.title(\"Customer\", y=1.015)\n",
    "plt.xlabel('Weekday')\n",
    "plt.ylabel('Start Time Hour')\n",
    "\n",
    "# heatmap for subscribers\n",
    "plt.subplot(1, 2, 2)\n",
    "df_subscriber = df_clean.query('user_type == \"Subscriber\"').groupby([\"start_time_hour\", \"start_time_weekday\"])[\"bike_id\"].size().reset_index()\n",
    "df_subscriber = df_subscriber.pivot(\"start_time_hour\", \"start_time_weekday\", \"bike_id\")\n",
    "sb.heatmap(df_subscriber, cmap=\"viridis_r\")\n",
    "\n",
    "plt.title(\"Subscriber\", y=1.015)\n",
    "plt.xlabel('Weekday')\n",
    "plt.ylabel('');"
   ]
  },
  {
   "cell_type": "markdown",
   "metadata": {},
   "source": [
    "**Inference:**\n",
    ">The plot perfectly summarizes in one place the diffrent trends for customers and subscribers.\n",
    ">\n",
    ">**Customers use the bike sharing system more often on weekends:**\n",
    ">- weekdays: most bike rides hapen around 8-9am and 5-6pm with the peak on Fridays around 5pm\n",
    ">- weekends: most bike rides happen between 10am - 8pm with the peak on Saturdays around 2pm.\n",
    ">\n",
    ">**Subscribers use the bike sharing system mainly on weekdays:**\n",
    ">- weekdays: most bike rides hapen around 8-9am and 5-6pm with the peak on Tuesdays around 8am\n",
    ">- weekends: bikes are still rented but there is a significant drop in numbers of rented bikes throughout the entire weekends"
   ]
  },
  {
   "cell_type": "markdown",
   "metadata": {},
   "source": [
    "### Talk about some of the relationships you observed in this part of the investigation. Were there features that strengthened each other in terms of looking at your feature(s) of interest?"
   ]
  },
  {
   "cell_type": "markdown",
   "metadata": {},
   "source": [
    ">Plotting a heatmap of when bikes are high in demand throughout the day on each weekday shed a new light on the customers behaviour. Plotting the number of bike trips throughout the day and #bike trips within the weekdays separately gave the impression that the demand for bikes is quite high throughout the day with a peak around 5pm which is not entirely true. The trend within weekdays for customers follows (although customers are rather not early birds) the one for subscribers who rent bikes mainly around commute hours (8-9am and 5-6pm). For customers, as depicted in univariate explorations, most of the trips happen on weekends but mainly between 10am - 8pm with the peak on Saturdays around 2pm, what was previosly not visible."
   ]
  },
  {
   "cell_type": "markdown",
   "metadata": {},
   "source": [
    "### Were there any interesting or surprising interactions between features?\n",
    "> As talked earlier, we wanted to know whether the customers rode the bikes in the late night/early mornings during the weekend or not. As seen from the heat map, we can see that the early hours during the weekend have some rides which are prominently taken by the customers. This confirms our analysis regarding the customers being casual travellers and subscribers being the working professionals in majority."
   ]
  },
  {
   "cell_type": "markdown",
   "metadata": {},
   "source": [
    "<a id='PartVII'></a>"
   ]
  },
  {
   "cell_type": "markdown",
   "metadata": {},
   "source": [
    "## Part VII - Conclusion"
   ]
  },
  {
   "cell_type": "markdown",
   "metadata": {},
   "source": [
    "![alt text](https://images.squarespace-cdn.com/content/v1/5330a423e4b07cae635bb95e/1543471169705-I7VOP0TCD48VVLLHWXU0/ke17ZwdGBToddI8pDm48kPG1NNr9uO4BVXyZlPsCQ-h7gQa3H78H3Y0txjaiv_0fDoOvxcdMmMKkDsyUqMSsMWxHk725yiiHCCLfrh8O1z4YTzHvnKhyp6Da-NYroOW3ZGjoBKy3azqku80C789l0k6sq9GEl9ZUDkp1sRKcAyIni6DKaP3EqkudS3LYFfWw1fSIFsuPfK_pM9aViLM1jg/Lyft+bike.jpg?format=2500w \"Lyft Bike\")"
   ]
  },
  {
   "cell_type": "markdown",
   "metadata": {},
   "source": [
    "On Jan 14, 2020 Baywheels completed 5 Million Rides. For our analysis there were 1.85 million rides (during the year of 2018). It was observed that the people use this service on weekdays more than weekends. 8am and 5pm are the peak hours for this service. Also, people use this service when they are in lunch time as well. Percentage of subscribers is almost %88.15. Percentage of customers is almost %11.85. 90% of bike rides take place on weekday. The peak bike rides time for all members is around commute time.\n",
    "The bikes are used by the customers during the late night on the weekends as we expected. Customers' usage is mostly during the evenings around 5-6pm during the weekdays and whole day during the weekends. Multivariate analysis helped us a lot in getting a good perspective of our data and it will be proved essential in communicating the data findings to our clients."
   ]
  }
 ],
 "metadata": {
  "kernelspec": {
   "display_name": "Python 3 (ipykernel)",
   "language": "python",
   "name": "python3"
  },
  "language_info": {
   "codemirror_mode": {
    "name": "ipython",
    "version": 3
   },
   "file_extension": ".py",
   "mimetype": "text/x-python",
   "name": "python",
   "nbconvert_exporter": "python",
   "pygments_lexer": "ipython3",
   "version": "3.9.7"
  }
 },
 "nbformat": 4,
 "nbformat_minor": 2
}
